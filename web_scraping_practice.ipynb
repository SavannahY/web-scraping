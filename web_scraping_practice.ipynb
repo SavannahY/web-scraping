{
  "nbformat": 4,
  "nbformat_minor": 0,
  "metadata": {
    "colab": {
      "name": "web_scraping_practice.ipynb",
      "provenance": [],
      "collapsed_sections": []
    },
    "kernelspec": {
      "name": "python3",
      "display_name": "Python 3"
    }
  },
  "cells": [
    {
      "cell_type": "code",
      "metadata": {
        "id": "33V6GpKcAVdr",
        "colab_type": "code",
        "colab": {}
      },
      "source": [
        "from requests import get\n",
        "from requests.exceptions import RequestException\n",
        "from contextlib import closing\n",
        "from bs4 import BeautifulSoup"
      ],
      "execution_count": 0,
      "outputs": []
    },
    {
      "cell_type": "code",
      "metadata": {
        "id": "isGPEScVA04N",
        "colab_type": "code",
        "colab": {}
      },
      "source": [
        "def simple_get(url):\n",
        "    \"\"\"\n",
        "    Attempts to get the content at `url` by making an HTTP GET request.\n",
        "    If the content-type of response is some kind of HTML/XML, return the\n",
        "    text content, otherwise return None.\n",
        "    \"\"\"\n",
        "    try:\n",
        "        with closing(get(url, stream=True)) as resp:\n",
        "            if is_good_response(resp):\n",
        "                return resp.content\n",
        "            else:\n",
        "                return None\n",
        "\n",
        "    except RequestException as e:\n",
        "        log_error('Error during requests to {0} : {1}'.format(url, str(e)))\n",
        "        return None\n",
        "\n",
        "def is_good_response(resp):\n",
        "    \"\"\"\n",
        "    Returns True if the response seems to be HTML, False otherwise.\n",
        "    \"\"\"\n",
        "    content_type = resp.headers['Content-Type'].lower()\n",
        "    return (resp.status_code == 200 \n",
        "            and content_type is not None \n",
        "            and content_type.find('html') > -1)\n",
        "\n",
        "\n",
        "def log_error(e):\n",
        "    \"\"\"\n",
        "    It is always a good idea to log errors. \n",
        "    This function just prints them, but you can\n",
        "    make it do anything.\n",
        "    \"\"\"\n",
        "    print(e)"
      ],
      "execution_count": 0,
      "outputs": []
    },
    {
      "cell_type": "code",
      "metadata": {
        "id": "BKCrE70tA-id",
        "colab_type": "code",
        "outputId": "179e296c-ec2b-41d6-b45f-bcdfc1b5dfc9",
        "colab": {
          "base_uri": "https://localhost:8080/",
          "height": 71
        }
      },
      "source": [
        "pip install mathematicians"
      ],
      "execution_count": 3,
      "outputs": [
        {
          "output_type": "stream",
          "text": [
            "\u001b[31mERROR: Could not find a version that satisfies the requirement mathematicians (from versions: none)\u001b[0m\n",
            "\u001b[31mERROR: No matching distribution found for mathematicians\u001b[0m\n"
          ],
          "name": "stdout"
        }
      ]
    },
    {
      "cell_type": "code",
      "metadata": {
        "id": "AVMlAECMBLCF",
        "colab_type": "code",
        "colab": {}
      },
      "source": [
        "###from mathematicians import simple_get ##dont have to import that"
      ],
      "execution_count": 0,
      "outputs": []
    },
    {
      "cell_type": "code",
      "metadata": {
        "id": "XZ1V8NQABsLp",
        "colab_type": "code",
        "colab": {}
      },
      "source": [
        "raw_html = simple_get('https://realpython.com/blog/')"
      ],
      "execution_count": 0,
      "outputs": []
    },
    {
      "cell_type": "code",
      "metadata": {
        "id": "xR76TsSfCYyU",
        "colab_type": "code",
        "outputId": "73860a94-72b0-4ba4-bcd9-9bb4e3d27720",
        "colab": {
          "base_uri": "https://localhost:8080/",
          "height": 34
        }
      },
      "source": [
        "len(raw_html)"
      ],
      "execution_count": 6,
      "outputs": [
        {
          "output_type": "execute_result",
          "data": {
            "text/plain": [
              "39199"
            ]
          },
          "metadata": {
            "tags": []
          },
          "execution_count": 6
        }
      ]
    },
    {
      "cell_type": "code",
      "metadata": {
        "id": "Ih4KY13RCbtT",
        "colab_type": "code",
        "colab": {}
      },
      "source": [
        "no_html = simple_get('https://realpython.com/blog/nope-not-gonna-find-it')"
      ],
      "execution_count": 0,
      "outputs": []
    },
    {
      "cell_type": "code",
      "metadata": {
        "id": "RwJ84eM5Ck6v",
        "colab_type": "code",
        "outputId": "4ea0dea5-f2c1-45ce-f868-8e044f5a11e0",
        "colab": {
          "base_uri": "https://localhost:8080/",
          "height": 34
        }
      },
      "source": [
        "no_html is None"
      ],
      "execution_count": 8,
      "outputs": [
        {
          "output_type": "execute_result",
          "data": {
            "text/plain": [
              "True"
            ]
          },
          "metadata": {
            "tags": []
          },
          "execution_count": 8
        }
      ]
    },
    {
      "cell_type": "code",
      "metadata": {
        "id": "Eo089jYRCmwz",
        "colab_type": "code",
        "colab": {}
      },
      "source": [
        "raw_html = simple_get('http://www.fabpedigree.com/james/mathmen.htm')\n"
      ],
      "execution_count": 0,
      "outputs": []
    },
    {
      "cell_type": "code",
      "metadata": {
        "id": "H6GCFMc9C6cu",
        "colab_type": "code",
        "colab": {}
      },
      "source": [
        "html = BeautifulSoup(raw_html, 'html.parser')\n"
      ],
      "execution_count": 0,
      "outputs": []
    },
    {
      "cell_type": "code",
      "metadata": {
        "id": "N9iIKp8aC7kw",
        "colab_type": "code",
        "outputId": "865d14dd-1482-429f-a254-c32517f478bf",
        "colab": {
          "base_uri": "https://localhost:8080/",
          "height": 1000
        }
      },
      "source": [
        "for i, li in enumerate(html.select('li')):\n",
        "        print(i, li.text)"
      ],
      "execution_count": 11,
      "outputs": [
        {
          "output_type": "stream",
          "text": [
            "0  Isaac Newton\n",
            " Archimedes\n",
            " Carl F. Gauss\n",
            " Leonhard Euler\n",
            " Bernhard Riemann\n",
            "\n",
            "1  Archimedes\n",
            " Carl F. Gauss\n",
            " Leonhard Euler\n",
            " Bernhard Riemann\n",
            "\n",
            "2  Carl F. Gauss\n",
            " Leonhard Euler\n",
            " Bernhard Riemann\n",
            "\n",
            "3  Leonhard Euler\n",
            " Bernhard Riemann\n",
            "\n",
            "4  Bernhard Riemann\n",
            "\n",
            "5  Henri Poincaré\n",
            " Joseph-Louis Lagrange\n",
            " Euclid  of Alexandria\n",
            " David Hilbert\n",
            " Gottfried W. Leibniz\n",
            "\n",
            "6  Joseph-Louis Lagrange\n",
            " Euclid  of Alexandria\n",
            " David Hilbert\n",
            " Gottfried W. Leibniz\n",
            "\n",
            "7  Euclid  of Alexandria\n",
            " David Hilbert\n",
            " Gottfried W. Leibniz\n",
            "\n",
            "8  David Hilbert\n",
            " Gottfried W. Leibniz\n",
            "\n",
            "9  Gottfried W. Leibniz\n",
            "\n",
            "10  Alexandre Grothendieck\n",
            " Pierre de Fermat\n",
            " Évariste Galois\n",
            " John von Neumann\n",
            " René Descartes\n",
            "\n",
            "11  Pierre de Fermat\n",
            " Évariste Galois\n",
            " John von Neumann\n",
            " René Descartes\n",
            "\n",
            "12  Évariste Galois\n",
            " John von Neumann\n",
            " René Descartes\n",
            "\n",
            "13  John von Neumann\n",
            " René Descartes\n",
            "\n",
            "14  René Descartes\n",
            "\n",
            "15  Karl W. T. Weierstrass\n",
            " Srinivasa Ramanujan\n",
            " Hermann K. H. Weyl\n",
            " Peter G. L. Dirichlet\n",
            " Niels Abel\n",
            "\n",
            "16  Srinivasa Ramanujan\n",
            " Hermann K. H. Weyl\n",
            " Peter G. L. Dirichlet\n",
            " Niels Abel\n",
            "\n",
            "17  Hermann K. H. Weyl\n",
            " Peter G. L. Dirichlet\n",
            " Niels Abel\n",
            "\n",
            "18  Peter G. L. Dirichlet\n",
            " Niels Abel\n",
            "\n",
            "19  Niels Abel\n",
            "\n",
            "20  Georg Cantor\n",
            " Carl G. J. Jacobi\n",
            " Brahmagupta\n",
            " Augustin Cauchy\n",
            " Arthur Cayley\n",
            "\n",
            "21  Carl G. J. Jacobi\n",
            " Brahmagupta\n",
            " Augustin Cauchy\n",
            " Arthur Cayley\n",
            "\n",
            "22  Brahmagupta\n",
            " Augustin Cauchy\n",
            " Arthur Cayley\n",
            "\n",
            "23  Augustin Cauchy\n",
            " Arthur Cayley\n",
            "\n",
            "24  Arthur Cayley\n",
            "\n",
            "25  Emmy Noether\n",
            " Pythagoras  of Samos\n",
            " Aryabhata\n",
            " Leonardo `Fibonacci'\n",
            " William R. Hamilton\n",
            "\n",
            "26  Pythagoras  of Samos\n",
            " Aryabhata\n",
            " Leonardo `Fibonacci'\n",
            " William R. Hamilton\n",
            "\n",
            "27  Aryabhata\n",
            " Leonardo `Fibonacci'\n",
            " William R. Hamilton\n",
            "\n",
            "28  Leonardo `Fibonacci'\n",
            " William R. Hamilton\n",
            "\n",
            "29  William R. Hamilton\n",
            "\n",
            "30  Apollonius  of Perga\n",
            " Charles Hermite\n",
            " Pierre-Simon Laplace\n",
            " Carl Ludwig Siegel\n",
            " Johannes Kepler\n",
            "\n",
            "31  Charles Hermite\n",
            " Pierre-Simon Laplace\n",
            " Carl Ludwig Siegel\n",
            " Johannes Kepler\n",
            "\n",
            "32  Pierre-Simon Laplace\n",
            " Carl Ludwig Siegel\n",
            " Johannes Kepler\n",
            "\n",
            "33  Carl Ludwig Siegel\n",
            " Johannes Kepler\n",
            "\n",
            "34  Johannes Kepler\n",
            "\n",
            "35  Diophantus  of Alexandria\n",
            " Muhammed al-Khowârizmi\n",
            " Kurt Gödel\n",
            " Richard Dedekind\n",
            " Felix Christian Klein\n",
            "\n",
            "36  Muhammed al-Khowârizmi\n",
            " Kurt Gödel\n",
            " Richard Dedekind\n",
            " Felix Christian Klein\n",
            "\n",
            "37  Kurt Gödel\n",
            " Richard Dedekind\n",
            " Felix Christian Klein\n",
            "\n",
            "38  Richard Dedekind\n",
            " Felix Christian Klein\n",
            "\n",
            "39  Felix Christian Klein\n",
            "\n",
            "40  Bháscara (II) Áchárya\n",
            " Blaise Pascal\n",
            " Élie Cartan\n",
            " Archytas  of Tarentum\n",
            " Godfrey H. Hardy\n",
            "\n",
            "41  Blaise Pascal\n",
            " Élie Cartan\n",
            " Archytas  of Tarentum\n",
            " Godfrey H. Hardy\n",
            "\n",
            "42  Élie Cartan\n",
            " Archytas  of Tarentum\n",
            " Godfrey H. Hardy\n",
            "\n",
            "43  Archytas  of Tarentum\n",
            " Godfrey H. Hardy\n",
            "\n",
            "44  Godfrey H. Hardy\n",
            "\n",
            "45  Alhazen ibn al-Haytham\n",
            " Jean le Rond d'Alembert\n",
            " F.E.J. Émile Borel\n",
            " Julius Plücker\n",
            " Hipparchus  of Nicaea\n",
            "\n",
            "46  Jean le Rond d'Alembert\n",
            " F.E.J. Émile Borel\n",
            " Julius Plücker\n",
            " Hipparchus  of Nicaea\n",
            "\n",
            "47  F.E.J. Émile Borel\n",
            " Julius Plücker\n",
            " Hipparchus  of Nicaea\n",
            "\n",
            "48  Julius Plücker\n",
            " Hipparchus  of Nicaea\n",
            "\n",
            "49  Hipparchus  of Nicaea\n",
            "\n",
            "50  Andrey N. Kolmogorov\n",
            " Joseph Liouville\n",
            " Eudoxus  of Cnidus\n",
            " F. Gotthold Eisenstein\n",
            " Jacob Bernoulli\n",
            "\n",
            "51  Joseph Liouville\n",
            " Eudoxus  of Cnidus\n",
            " F. Gotthold Eisenstein\n",
            " Jacob Bernoulli\n",
            "\n",
            "52  Eudoxus  of Cnidus\n",
            " F. Gotthold Eisenstein\n",
            " Jacob Bernoulli\n",
            "\n",
            "53  F. Gotthold Eisenstein\n",
            " Jacob Bernoulli\n",
            "\n",
            "54  Jacob Bernoulli\n",
            "\n",
            "55  Stefan Banach\n",
            " Jacques Hadamard\n",
            " Giuseppe Peano\n",
            " Panini  of Shalatula\n",
            " André Weil\n",
            "\n",
            "56  Jacques Hadamard\n",
            " Giuseppe Peano\n",
            " Panini  of Shalatula\n",
            " André Weil\n",
            "\n",
            "57  Giuseppe Peano\n",
            " Panini  of Shalatula\n",
            " André Weil\n",
            "\n",
            "58  Panini  of Shalatula\n",
            " André Weil\n",
            "\n",
            "59  André Weil\n",
            "\n",
            "60  Jean-Pierre Serre\n",
            " Jakob Steiner\n",
            " Marius Sophus Lie\n",
            " F. L. Gottlob Frege\n",
            " François Viète\n",
            "\n",
            "61  Jakob Steiner\n",
            " Marius Sophus Lie\n",
            " F. L. Gottlob Frege\n",
            " François Viète\n",
            "\n",
            "62  Marius Sophus Lie\n",
            " F. L. Gottlob Frege\n",
            " François Viète\n",
            "\n",
            "63  F. L. Gottlob Frege\n",
            " François Viète\n",
            "\n",
            "64  François Viète\n",
            "\n",
            "65  Christiaan Huygens\n",
            " M. E. Camille Jordan\n",
            " Joseph Fourier\n",
            " Bonaventura Cavalieri\n",
            " Hermann G. Grassmann\n",
            "\n",
            "66  M. E. Camille Jordan\n",
            " Joseph Fourier\n",
            " Bonaventura Cavalieri\n",
            " Hermann G. Grassmann\n",
            "\n",
            "67  Joseph Fourier\n",
            " Bonaventura Cavalieri\n",
            " Hermann G. Grassmann\n",
            "\n",
            "68  Bonaventura Cavalieri\n",
            " Hermann G. Grassmann\n",
            "\n",
            "69  Hermann G. Grassmann\n",
            "\n",
            "70  Albert Einstein\n",
            " James C. Maxwell\n",
            " Girolamo Cardano\n",
            " Aristotle\n",
            " Galileo Galilei\n",
            "\n",
            "71  James C. Maxwell\n",
            " Girolamo Cardano\n",
            " Aristotle\n",
            " Galileo Galilei\n",
            "\n",
            "72  Girolamo Cardano\n",
            " Aristotle\n",
            " Galileo Galilei\n",
            "\n",
            "73  Aristotle\n",
            " Galileo Galilei\n",
            "\n",
            "74  Galileo Galilei\n",
            "\n",
            "75  Michael F. Atiyah\n",
            " Atle Selberg\n",
            " Alfred Tarski\n",
            " Gaspard Monge\n",
            " L.E.J. Brouwer\n",
            "\n",
            "76  Atle Selberg\n",
            " Alfred Tarski\n",
            " Gaspard Monge\n",
            " L.E.J. Brouwer\n",
            "\n",
            "77  Alfred Tarski\n",
            " Gaspard Monge\n",
            " L.E.J. Brouwer\n",
            "\n",
            "78  Gaspard Monge\n",
            " L.E.J. Brouwer\n",
            "\n",
            "79  L.E.J. Brouwer\n",
            "\n",
            "80  Liu Hui\n",
            " Alan M. Turing\n",
            " Jean-Victor Poncelet\n",
            " John E. Littlewood\n",
            " Shiing-Shen Chern\n",
            "\n",
            "81  Alan M. Turing\n",
            " Jean-Victor Poncelet\n",
            " John E. Littlewood\n",
            " Shiing-Shen Chern\n",
            "\n",
            "82  Jean-Victor Poncelet\n",
            " John E. Littlewood\n",
            " Shiing-Shen Chern\n",
            "\n",
            "83  John E. Littlewood\n",
            " Shiing-Shen Chern\n",
            "\n",
            "84  Shiing-Shen Chern\n",
            "\n",
            "85  James J. Sylvester\n",
            " Henri Léon Lebesgue\n",
            " Johann Bernoulli\n",
            " Ernst E. Kummer\n",
            " Johann H. Lambert\n",
            "\n",
            "86  Henri Léon Lebesgue\n",
            " Johann Bernoulli\n",
            " Ernst E. Kummer\n",
            " Johann H. Lambert\n",
            "\n",
            "87  Johann Bernoulli\n",
            " Ernst E. Kummer\n",
            " Johann H. Lambert\n",
            "\n",
            "88  Ernst E. Kummer\n",
            " Johann H. Lambert\n",
            "\n",
            "89  Johann H. Lambert\n",
            "\n",
            "90  George Pólya\n",
            " Felix Hausdorff\n",
            " George D. Birkhoff\n",
            " Pafnuti Chebyshev\n",
            " Adrien M. Legendre\n",
            "\n",
            "91  Felix Hausdorff\n",
            " George D. Birkhoff\n",
            " Pafnuti Chebyshev\n",
            " Adrien M. Legendre\n",
            "\n",
            "92  George D. Birkhoff\n",
            " Pafnuti Chebyshev\n",
            " Adrien M. Legendre\n",
            "\n",
            "93  Pafnuti Chebyshev\n",
            " Adrien M. Legendre\n",
            "\n",
            "94  Adrien M. Legendre\n",
            "\n",
            "95  John F. Nash, Jr.\n",
            " Israel M. Gelfand\n",
            " John Wallis\n",
            " Omar al-Khayyám\n",
            " Thales  of Miletus\n",
            "\n",
            "96  Israel M. Gelfand\n",
            " John Wallis\n",
            " Omar al-Khayyám\n",
            " Thales  of Miletus\n",
            "\n",
            "97  John Wallis\n",
            " Omar al-Khayyám\n",
            " Thales  of Miletus\n",
            "\n",
            "98  Omar al-Khayyám\n",
            " Thales  of Miletus\n",
            "\n",
            "99  Thales  of Miletus\n",
            "\n"
          ],
          "name": "stdout"
        }
      ]
    },
    {
      "cell_type": "code",
      "metadata": {
        "id": "UUJJylM4DKEj",
        "colab_type": "code",
        "colab": {}
      },
      "source": [
        "def get_names():\n",
        "  \n",
        "    \"\"\"\n",
        "    Downloads the page where the list of mathematicians is found\n",
        "    and returns a list of strings, one per mathematician\n",
        "    \"\"\"\n",
        "    url = 'http://www.fabpedigree.com/james/mathmen.htm'\n",
        "    response = simple_get(url)\n",
        "\n",
        "    if response is not None:\n",
        "        html = BeautifulSoup(response, 'html.parser')\n",
        "        names = set()\n",
        "        for li in html.select('li'):\n",
        "            for name in li.text.split('\\n'):\n",
        "                if len(name) > 0:\n",
        "                    names.add(name.strip())\n",
        "        return list(names)\n",
        "\n",
        "    # Raise an exception if we failed to get any data from the url\n",
        "    raise Exception('Error retrieving contents at {}'.format(url))"
      ],
      "execution_count": 0,
      "outputs": []
    },
    {
      "cell_type": "code",
      "metadata": {
        "id": "76PCeY9__TWp",
        "colab_type": "code",
        "colab": {}
      },
      "source": [
        "def get_hits_on_name(name):\n",
        "    \"\"\"\n",
        "    Accepts a `name` of a mathematician and returns the number\n",
        "    of hits that mathematician's Wikipedia page received in the \n",
        "    last 60 days, as an `int`\n",
        "    \"\"\"\n",
        "    # url_root is a template string that is used to build a URL.\n",
        "    url_root = 'URL_REMOVED_SEE_NOTICE_AT_START_OF_ARTICLE'\n",
        "    response = simple_get('https://xtools.wmflabs.org/articleinfo/en.wikipedia.org/{}')\n",
        "\n",
        "    if response is not None:\n",
        "        html = BeautifulSoup(response, 'html.parser')\n",
        "\n",
        "        hit_link = [a for a in html.select('a')\n",
        "                    if a['href'].find('latest-60') > -1]\n",
        "\n",
        "        if len(hit_link) > 0:\n",
        "            # Strip commas\n",
        "            link_text = hit_link[0].text.replace(',', '')\n",
        "            try:\n",
        "                # Convert to integer\n",
        "                return int(link_text)\n",
        "            except:\n",
        "                log_error(\"couldn't parse {} as an `int`\".format(link_text))\n",
        "\n",
        "    log_error('No pageviews found for {}'.format(name))\n",
        "    return None"
      ],
      "execution_count": 0,
      "outputs": []
    },
    {
      "cell_type": "code",
      "metadata": {
        "id": "mZ1dnMDFSuxm",
        "colab_type": "code",
        "colab": {}
      },
      "source": [
        ""
      ],
      "execution_count": 0,
      "outputs": []
    },
    {
      "cell_type": "code",
      "metadata": {
        "id": "d0dW-8DnEa9c",
        "colab_type": "code",
        "outputId": "fead3d94-e91c-491f-a0f9-7a956eae25ba",
        "colab": {
          "base_uri": "https://localhost:8080/",
          "height": 1000
        }
      },
      "source": [
        "if __name__ == '__main__':\n",
        "    print('Getting the list of names....')\n",
        "    names = get_names()\n",
        "    print(len(names))\n",
        "    print('... done.\\n')\n",
        "\n",
        "    results = []\n",
        "\n",
        "    print('Getting stats for each name....')\n",
        "\n",
        "    for name in names:\n",
        "        try:\n",
        "            hits = get_hits_on_name(name)\n",
        "            if hits is None:\n",
        "                hits = -1\n",
        "            results.append((hits, name))\n",
        "        except:\n",
        "            results.append((-1, name))\n",
        "            log_error('error encountered while processing '\n",
        "                      '{}, skipping'.format(name))\n",
        "\n",
        "    print('... done.\\n')\n",
        "\n",
        "    results.sort()\n",
        "    results.reverse()\n",
        "\n",
        "    if len(results) > 5:\n",
        "        top_marks = results[:5]\n",
        "    else:\n",
        "        top_marks = results\n",
        "\n",
        "    print('\\nThe most popular mathematicians are:\\n')\n",
        "    for (mark, mathematician) in top_marks:\n",
        "        print('{} with {} pageviews'.format(mathematician, mark))\n",
        "\n",
        "    no_results = len([res for res in results if res[0] == -1])\n",
        "    print('\\nBut we did not find results for '\n",
        "          '{} mathematicians on the list'.format(no_results))"
      ],
      "execution_count": 14,
      "outputs": [
        {
          "output_type": "stream",
          "text": [
            "Getting the list of names....\n",
            "100\n",
            "... done.\n",
            "\n",
            "Getting stats for each name....\n",
            "No pageviews found for F. L. Gottlob Frege\n",
            "No pageviews found for Andrey N. Kolmogorov\n",
            "No pageviews found for F. Gotthold Eisenstein\n",
            "No pageviews found for Diophantus  of Alexandria\n",
            "No pageviews found for Godfrey H. Hardy\n",
            "No pageviews found for Isaac Newton\n",
            "No pageviews found for Brahmagupta\n",
            "No pageviews found for Christiaan Huygens\n",
            "No pageviews found for Johann H. Lambert\n",
            "No pageviews found for F.E.J. Émile Borel\n",
            "No pageviews found for Jakob Steiner\n",
            "No pageviews found for Gaspard Monge\n",
            "No pageviews found for Carl F. Gauss\n",
            "No pageviews found for John von Neumann\n",
            "No pageviews found for Alhazen ibn al-Haytham\n",
            "No pageviews found for Ernst E. Kummer\n",
            "No pageviews found for Jean-Victor Poncelet\n",
            "No pageviews found for Évariste Galois\n",
            "No pageviews found for Bonaventura Cavalieri\n",
            "No pageviews found for George D. Birkhoff\n",
            "No pageviews found for Girolamo Cardano\n",
            "No pageviews found for Joseph-Louis Lagrange\n",
            "No pageviews found for Stefan Banach\n",
            "No pageviews found for André Weil\n",
            "No pageviews found for Jacques Hadamard\n",
            "No pageviews found for Euclid  of Alexandria\n",
            "No pageviews found for Blaise Pascal\n",
            "No pageviews found for Leonhard Euler\n",
            "No pageviews found for Adrien M. Legendre\n",
            "No pageviews found for Albert Einstein\n",
            "No pageviews found for Gottfried W. Leibniz\n",
            "No pageviews found for Archimedes\n",
            "No pageviews found for Pierre de Fermat\n",
            "No pageviews found for Jean-Pierre Serre\n",
            "No pageviews found for Felix Christian Klein\n",
            "No pageviews found for Israel M. Gelfand\n",
            "No pageviews found for Panini  of Shalatula\n",
            "No pageviews found for Arthur Cayley\n",
            "No pageviews found for Bháscara (II) Áchárya\n",
            "No pageviews found for Johann Bernoulli\n",
            "No pageviews found for John Wallis\n",
            "No pageviews found for Archytas  of Tarentum\n",
            "No pageviews found for Marius Sophus Lie\n",
            "No pageviews found for James J. Sylvester\n",
            "No pageviews found for René Descartes\n",
            "No pageviews found for Omar al-Khayyám\n",
            "No pageviews found for Johannes Kepler\n",
            "No pageviews found for Aryabhata\n",
            "No pageviews found for James C. Maxwell\n",
            "No pageviews found for Shiing-Shen Chern\n",
            "No pageviews found for Karl W. T. Weierstrass\n",
            "No pageviews found for Charles Hermite\n",
            "No pageviews found for Pafnuti Chebyshev\n",
            "No pageviews found for Jacob Bernoulli\n",
            "No pageviews found for Liu Hui\n",
            "No pageviews found for Leonardo `Fibonacci'\n",
            "No pageviews found for Carl Ludwig Siegel\n",
            "No pageviews found for Georg Cantor\n",
            "No pageviews found for L.E.J. Brouwer\n",
            "No pageviews found for Hipparchus  of Nicaea\n",
            "No pageviews found for Alfred Tarski\n",
            "No pageviews found for Felix Hausdorff\n",
            "No pageviews found for Carl G. J. Jacobi\n",
            "No pageviews found for Henri Poincaré\n",
            "No pageviews found for Élie Cartan\n",
            "No pageviews found for Emmy Noether\n",
            "No pageviews found for Augustin Cauchy\n",
            "No pageviews found for John E. Littlewood\n",
            "No pageviews found for Srinivasa Ramanujan\n",
            "No pageviews found for Joseph Liouville\n",
            "No pageviews found for Muhammed al-Khowârizmi\n",
            "No pageviews found for Joseph Fourier\n",
            "No pageviews found for Julius Plücker\n",
            "No pageviews found for David Hilbert\n",
            "No pageviews found for Jean le Rond d'Alembert\n",
            "No pageviews found for Pythagoras  of Samos\n",
            "No pageviews found for Eudoxus  of Cnidus\n",
            "No pageviews found for George Pólya\n",
            "No pageviews found for Michael F. Atiyah\n",
            "No pageviews found for Alan M. Turing\n",
            "No pageviews found for Alexandre Grothendieck\n",
            "No pageviews found for Hermann K. H. Weyl\n",
            "No pageviews found for M. E. Camille Jordan\n",
            "No pageviews found for Niels Abel\n",
            "No pageviews found for Bernhard Riemann\n",
            "No pageviews found for Giuseppe Peano\n",
            "No pageviews found for Galileo Galilei\n",
            "No pageviews found for François Viète\n",
            "No pageviews found for Peter G. L. Dirichlet\n",
            "No pageviews found for Hermann G. Grassmann\n",
            "No pageviews found for Pierre-Simon Laplace\n",
            "No pageviews found for Atle Selberg\n",
            "No pageviews found for Apollonius  of Perga\n",
            "No pageviews found for Henri Léon Lebesgue\n",
            "No pageviews found for Richard Dedekind\n",
            "No pageviews found for William R. Hamilton\n",
            "No pageviews found for Aristotle\n",
            "No pageviews found for John F. Nash, Jr.\n",
            "No pageviews found for Kurt Gödel\n",
            "No pageviews found for Thales  of Miletus\n",
            "... done.\n",
            "\n",
            "\n",
            "The most popular mathematicians are:\n",
            "\n",
            "Évariste Galois with -1 pageviews\n",
            "Élie Cartan with -1 pageviews\n",
            "William R. Hamilton with -1 pageviews\n",
            "Thales  of Miletus with -1 pageviews\n",
            "Stefan Banach with -1 pageviews\n",
            "\n",
            "But we did not find results for 100 mathematicians on the list\n"
          ],
          "name": "stdout"
        }
      ]
    },
    {
      "cell_type": "markdown",
      "metadata": {
        "id": "k0mdyg_vo44q",
        "colab_type": "text"
      },
      "source": [
        "As stated\n",
        "\n",
        "*We’ve received an email from an XTools maintainer informing us that scraping XTools is harmful and that automation APIs should be used instead:This article on your site is essentially a guide to scraping XTools […] This is not necessary, and it’s causing problems for us. We have APIs that should be used for automation, and furthermore, for pageviews specifically folks should be using the official pageviews API.The example code in the article was modified to no longer make requests to the XTools website. The web scraping techniques demonstrated here are still valid, but please do not use them on web pages of the XTools project. Use the provided automation API instead.*\n"
      ]
    },
    {
      "cell_type": "code",
      "metadata": {
        "id": "tB4zlAO7Eg1G",
        "colab_type": "code",
        "outputId": "421b38b9-7173-4c1f-eac3-8ed00ed547b3",
        "colab": {
          "base_uri": "https://localhost:8080/",
          "height": 292
        }
      },
      "source": [
        "pip install wikipedia"
      ],
      "execution_count": 15,
      "outputs": [
        {
          "output_type": "stream",
          "text": [
            "Collecting wikipedia\n",
            "  Downloading https://files.pythonhosted.org/packages/67/35/25e68fbc99e672127cc6fbb14b8ec1ba3dfef035bf1e4c90f78f24a80b7d/wikipedia-1.4.0.tar.gz\n",
            "Requirement already satisfied: beautifulsoup4 in /usr/local/lib/python3.6/dist-packages (from wikipedia) (4.6.3)\n",
            "Requirement already satisfied: requests<3.0.0,>=2.0.0 in /usr/local/lib/python3.6/dist-packages (from wikipedia) (2.23.0)\n",
            "Requirement already satisfied: chardet<4,>=3.0.2 in /usr/local/lib/python3.6/dist-packages (from requests<3.0.0,>=2.0.0->wikipedia) (3.0.4)\n",
            "Requirement already satisfied: urllib3!=1.25.0,!=1.25.1,<1.26,>=1.21.1 in /usr/local/lib/python3.6/dist-packages (from requests<3.0.0,>=2.0.0->wikipedia) (1.24.3)\n",
            "Requirement already satisfied: idna<3,>=2.5 in /usr/local/lib/python3.6/dist-packages (from requests<3.0.0,>=2.0.0->wikipedia) (2.9)\n",
            "Requirement already satisfied: certifi>=2017.4.17 in /usr/local/lib/python3.6/dist-packages (from requests<3.0.0,>=2.0.0->wikipedia) (2020.4.5.1)\n",
            "Building wheels for collected packages: wikipedia\n",
            "  Building wheel for wikipedia (setup.py) ... \u001b[?25l\u001b[?25hdone\n",
            "  Created wheel for wikipedia: filename=wikipedia-1.4.0-cp36-none-any.whl size=11686 sha256=23a705f565716d097d67d3c30da4466f82d97da1c4592bdfff9257f819276b7a\n",
            "  Stored in directory: /root/.cache/pip/wheels/87/2a/18/4e471fd96d12114d16fe4a446d00c3b38fb9efcb744bd31f4a\n",
            "Successfully built wikipedia\n",
            "Installing collected packages: wikipedia\n",
            "Successfully installed wikipedia-1.4.0\n"
          ],
          "name": "stdout"
        }
      ]
    },
    {
      "cell_type": "code",
      "metadata": {
        "id": "_p3y6ndGyYog",
        "colab_type": "code",
        "colab": {}
      },
      "source": [
        "import wikipedia"
      ],
      "execution_count": 0,
      "outputs": []
    },
    {
      "cell_type": "code",
      "metadata": {
        "id": "QxGFBdknycVJ",
        "colab_type": "code",
        "outputId": "58f1852e-96d7-41c6-b6dc-af3e794ff25a",
        "colab": {
          "base_uri": "https://localhost:8080/",
          "height": 54
        }
      },
      "source": [
        "print(wikipedia.search(\"Issac newton\"))"
      ],
      "execution_count": 17,
      "outputs": [
        {
          "output_type": "stream",
          "text": [
            "['Isaac Newton', 'Religious views of Isaac Newton', 'Early life of Isaac Newton', \"Isaac Newton's occult studies\", 'Later life of Isaac Newton', 'Isaac Newton Van Nuys', 'Christine King Farris', 'Institute of Physics Isaac Newton Medal', 'Isaac Newton Institute', 'Isaac Newton Group of Telescopes']\n"
          ],
          "name": "stdout"
        }
      ]
    },
    {
      "cell_type": "code",
      "metadata": {
        "id": "vXYXN6lFyjgi",
        "colab_type": "code",
        "outputId": "939d164f-401a-4b53-9a9f-f7f5d221a677",
        "colab": {
          "base_uri": "https://localhost:8080/",
          "height": 54
        }
      },
      "source": [
        "print(wikipedia.summary(\"Isaac Newton\",sentences =3))"
      ],
      "execution_count": 18,
      "outputs": [
        {
          "output_type": "stream",
          "text": [
            "Sir Isaac Newton  (25 December 1642 – 20 March 1726/27) was an English mathematician, physicist, astronomer, theologian, and author (described in his own day as a \"natural philosopher\") who is widely recognised as one of the most influential scientists of all time and as a key figure in the scientific revolution. His book Philosophiæ Naturalis Principia Mathematica (Mathematical Principles of Natural Philosophy), first published in 1687, laid the foundations of classical mechanics. Newton also made seminal contributions to optics, and shares credit with Gottfried Wilhelm Leibniz for developing the infinitesimal calculus.\n"
          ],
          "name": "stdout"
        }
      ]
    },
    {
      "cell_type": "code",
      "metadata": {
        "id": "uFZQDkZ8yvsL",
        "colab_type": "code",
        "outputId": "39d759d5-acc1-4f53-8682-34e4b5966440",
        "colab": {
          "base_uri": "https://localhost:8080/",
          "height": 1000
        }
      },
      "source": [
        "print(wikipedia.page(\"Isaac Newton\").content)"
      ],
      "execution_count": 19,
      "outputs": [
        {
          "output_type": "stream",
          "text": [
            "Sir Isaac Newton  (25 December 1642 – 20 March 1726/27) was an English mathematician, physicist, astronomer, theologian, and author (described in his own day as a \"natural philosopher\") who is widely recognised as one of the most influential scientists of all time and as a key figure in the scientific revolution. His book Philosophiæ Naturalis Principia Mathematica (Mathematical Principles of Natural Philosophy), first published in 1687, laid the foundations of classical mechanics. Newton also made seminal contributions to optics, and shares credit with Gottfried Wilhelm Leibniz for developing the infinitesimal calculus.\n",
            "In Principia, Newton formulated the laws of motion and universal gravitation that formed the dominant scientific viewpoint until it was superseded by the theory of relativity. Newton used his mathematical description of gravity to prove Kepler's laws of planetary motion, account for tides, the trajectories of comets, the precession of the equinoxes and other phenomena, eradicating doubt about the Solar System's heliocentricity. He demonstrated that the motion of objects on Earth and celestial bodies could be accounted for by the same principles. Newton's inference that the Earth is an oblate spheroid was later confirmed by the geodetic measurements of Maupertuis, La Condamine, and others, convincing most European scientists of the superiority of Newtonian mechanics over earlier systems.\n",
            "Newton built the first practical reflecting telescope and developed a sophisticated theory of colour based on the observation that a prism separates white light into the colours of the visible spectrum. His work on light was collected in his highly influential book Opticks, published in 1704. He also formulated an empirical law of cooling, made the first theoretical calculation of the speed of sound, and introduced the notion of a Newtonian fluid. In addition to his work on calculus, as a mathematician Newton contributed to the study of power series, generalised the binomial theorem to non-integer exponents, developed a method for approximating the roots of a function, and classified most of the cubic plane curves.\n",
            "Newton was a fellow of Trinity College and the second Lucasian Professor of Mathematics at the University of Cambridge. He was a devout but unorthodox Christian who privately rejected the doctrine of the Trinity. Unusually for a member of the Cambridge faculty of the day, he refused to take holy orders in the Church of England. Beyond his work on the mathematical sciences, Newton dedicated much of his time to the study of alchemy and biblical chronology, but most of his work in those areas remained unpublished until long after his death. Politically and personally tied to the Whig party, Newton served two brief terms as Member of Parliament for the University of Cambridge, in 1689–90 and 1701–02. He was knighted by Queen Anne in 1705 and spent the last three decades of his life in London, serving as Warden (1696–1700) and Master (1700–1727) of the Royal Mint, as well as president of the Royal Society (1703–1727).\n",
            "\n",
            "\n",
            "== Life ==\n",
            "\n",
            "\n",
            "=== Early life ===\n",
            "\n",
            "Isaac Newton was born (according to the Julian calendar, in use in England at the time) on Christmas Day, 25 December 1642 (NS 4 January 1643) \"an hour or two after midnight\", at Woolsthorpe Manor in Woolsthorpe-by-Colsterworth, a hamlet in the county of Lincolnshire. His father, also named Isaac Newton, had died three months before. Born prematurely, Newton was a small child; his mother Hannah Ayscough reportedly said that he could have fit inside a quart mug. When Newton was three, his mother remarried and went to live with her new husband, the Reverend Barnabas Smith, leaving her son in the care of his maternal grandmother, Margery Ayscough (née Blythe). Newton disliked his stepfather and maintained some enmity towards his mother for marrying him, as revealed by this entry in a list of sins committed up to the age of 19: \"Threatening my father and mother Smith to burn them and the house over them.\" Newton's mother had three children (Mary, Benjamin and Hannah) from her second marriage.From the age of about twelve until he was seventeen, Newton was educated at The King's School, Grantham, which taught Latin and Greek and probably imparted a significant foundation of mathematics. He was removed from school and returned to Woolsthorpe-by-Colsterworth by October 1659. His mother, widowed for the second time, attempted to make him a farmer, an occupation he hated. Henry Stokes, master at The King's School, persuaded his mother to send him back to school. Motivated partly by a desire for revenge against a schoolyard bully, he became the top-ranked student, distinguishing himself mainly by building sundials and models of windmills.In June 1661, he was admitted to Trinity College, Cambridge, on the recommendation of his uncle Rev William Ayscough, who had studied there. He started as a subsizar—paying his way by performing valet's duties—until he was awarded a scholarship in 1664, guaranteeing him four more years until he could get his MA. At that time, the college's teachings were based on those of Aristotle, whom Newton supplemented with modern philosophers such as Descartes, and astronomers such as Galileo and Thomas Street, through whom he learned of Kepler's work. He set down in his notebook a series of \"Quaestiones\" about mechanical philosophy as he found it. In 1665, he discovered the generalised binomial theorem and began to develop a mathematical theory that later became calculus. Soon after Newton had obtained his BA degree in August 1665, the university temporarily closed as a precaution against the Great Plague. Although he had been undistinguished as a Cambridge student, Newton's private studies at his home in Woolsthorpe over the subsequent two years saw the development of his theories on calculus, optics, and the law of gravitation.\n",
            "In April 1667, he returned to Cambridge and in October was elected as a fellow of Trinity. Fellows were required to become ordained priests, although this was not enforced in the restoration years and an assertion of conformity to the Church of England was sufficient. However, by 1675 the issue could not be avoided and by then his unconventional views stood in the way. Nevertheless, Newton managed to avoid it by means of special permission from Charles II.\n",
            "His studies had impressed the Lucasian professor Isaac Barrow, who was more anxious to develop his own religious and administrative potential (he became master of Trinity two years later); in 1669 Newton succeeded him, only one year after receiving his MA. He was elected a Fellow of the Royal Society (FRS) in 1672.\n",
            "\n",
            "\n",
            "=== Middle years ===\n",
            "\n",
            "\n",
            "==== Mathematics ====\n",
            "\n",
            "Newton's work has been said \"to distinctly advance every branch of mathematics then studied.\" His work on the subject usually referred to as fluxions or calculus, seen in a manuscript of October 1666, is now published among Newton's mathematical papers. The author of the manuscript De analysi per aequationes numero terminorum infinitas, sent by Isaac Barrow to John Collins in June 1669, was identified by Barrow in a letter sent to Collins in August of that year as \"[...] of an extraordinary genius and proficiency in these things.\"Newton later became involved in a dispute with Leibniz over priority in the development of calculus (the Leibniz–Newton calculus controversy). Most modern historians believe that Newton and Leibniz developed calculus independently, although with very different mathematical notations. Occasionally it has been suggested that Newton published almost nothing about it until 1693, and did not give a full account until 1704, while Leibniz began publishing a full account of his methods in 1684. Leibniz's notation and \"differential Method\", nowadays recognised as much more convenient notations, were adopted by continental European mathematicians, and after 1820 or so, also by British mathematicians.Such a suggestion fails to account for the calculus in Book 1 of Newton's Principia itself and in its forerunner manuscripts, such as De motu corporum in gyrum of 1684; this content has been pointed out by critics of both Newton's time and modern times.His work extensively uses calculus in geometric form based on limiting values of the ratios of vanishingly small quantities: in the Principia itself, Newton gave demonstration of this under the name of \"the method of first and last ratios\" and explained why he put his expositions in this form, remarking also that \"hereby the same thing is performed as by the method of indivisibles.\"Because of this, the Principia has been called \"a book dense with the theory and application of the infinitesimal calculus\" in modern times and in Newton's time \"nearly all of it is of this calculus.\" His use of methods involving \"one or more orders of the infinitesimally small\" is present in his De motu corporum in gyrum of 1684 and in his papers on motion \"during the two decades preceding 1684\".\n",
            "\n",
            "Newton had been reluctant to publish his calculus because he feared controversy and criticism. He was close to the Swiss mathematician Nicolas Fatio de Duillier. In 1691, Duillier started to write a new version of Newton's Principia, and corresponded with Leibniz. In 1693, the relationship between Duillier and Newton deteriorated and the book was never completed.Starting in 1699, other members of the Royal Society accused Leibniz of plagiarism. The dispute then broke out in full force in 1711 when the Royal Society proclaimed in a study that it was Newton who was the true discoverer and labelled Leibniz a fraud; it was later found that Newton wrote the study's concluding remarks on Leibniz. Thus began the bitter controversy which marred the lives of both Newton and Leibniz until the latter's death in 1716.Newton is generally credited with the generalised binomial theorem, valid for any exponent. He discovered Newton's identities, Newton's method, classified cubic plane curves (polynomials of degree three in two variables), made substantial contributions to the theory of finite differences, and was the first to use fractional indices and to employ coordinate geometry to derive solutions to Diophantine equations. He approximated partial sums of the harmonic series by logarithms (a precursor to Euler's summation formula) and was the first to use power series with confidence and to revert power series. Newton's work on infinite series was inspired by Simon Stevin's decimals.When Newton received his MA and became a Fellow of the \"College of the Holy and Undivided Trinity\" in 1667, he made the commitment that \"I will either set Theology as the object of my studies and will take holy orders when the time prescribed by these statutes [7 years] arrives, or I will resign from the college.\" Up until this point he had not thought much about religion and had twice signed his agreement to the thirty-nine articles, the basis of Church of England doctrine.\n",
            "He was appointed Lucasian Professor of Mathematics in 1669, on Barrow's recommendation. During that time, any Fellow of a college at Cambridge or Oxford was required to take holy orders and become an ordained Anglican priest. However, the terms of the Lucasian professorship required that the holder not be active in the church – presumably, so as to have more time for science. Newton argued that this should exempt him from the ordination requirement, and Charles II, whose permission was needed, accepted this argument. Thus a conflict between Newton's religious views and Anglican orthodoxy was averted.\n",
            "\n",
            "\n",
            "==== Optics ====\n",
            "\n",
            "In 1666, Newton observed that the spectrum of colours exiting a prism in the position of minimum deviation is oblong, even when the light ray entering the prism is circular, which is to say, the prism refracts different colours by different angles. This led him to conclude that colour is a property intrinsic to light – a point which had, until then, been a matter of debate.  \n",
            "From 1670 to 1672, Newton lectured on optics. During this period he investigated the refraction of light, demonstrating that the multicoloured spectrum produced by a prism could be recomposed into white light by a lens and a second prism. Modern scholarship has revealed that Newton's analysis and resynthesis of white light owes a debt to corpuscular alchemy.He showed that coloured light does not change its properties by separating out a coloured beam and shining it on various objects and that regardless of whether reflected, scattered, or transmitted, the light remains the same colour. Thus, he observed that colour is the result of objects interacting with already-coloured light rather than objects generating the colour themselves. This is known as Newton's theory of colour.\n",
            "\n",
            "From this work, he concluded that the lens of any refracting telescope would suffer from the dispersion of light into colours (chromatic aberration). As a proof of the concept, he constructed a telescope using reflective mirrors instead of lenses as the objective to bypass that problem. Building the design, the first known functional reflecting telescope, today known as a Newtonian telescope, involved solving the problem of a suitable mirror material and shaping technique. Newton ground his own mirrors out of a custom composition of highly reflective speculum metal, using Newton's rings to judge the quality of the optics for his telescopes. In late 1668, he was able to produce this first reflecting telescope. It was about eight inches long and it gave a clearer and larger image. In 1671, the Royal Society asked for a demonstration of his reflecting telescope. Their interest encouraged him to publish his notes, Of Colours, which he later expanded into the work Opticks. When Robert Hooke criticised some of Newton's ideas, Newton was so offended that he withdrew from public debate. Newton and Hooke had brief exchanges in 1679–80, when Hooke, appointed to manage the Royal Society's correspondence, opened up a correspondence intended to elicit contributions from Newton to Royal Society transactions, which had the effect of stimulating Newton to work out a proof that the elliptical form of planetary orbits would result from a centripetal force inversely proportional to the square of the radius vector. But the two men remained generally on poor terms until Hooke's death.\n",
            "\n",
            "Newton argued that light is composed of particles or corpuscles, which were refracted by accelerating into a denser medium. He verged on soundlike waves to explain the repeated pattern of reflection and transmission by thin films (Opticks Bk.II, Props. 12), but still retained his theory of 'fits' that disposed corpuscles to be reflected or transmitted (Props.13). However, later physicists favoured a purely wavelike explanation of light to account for the interference patterns and the general phenomenon of diffraction. Today's quantum mechanics, photons, and the idea of wave–particle duality bear only a minor resemblance to Newton's understanding of light.\n",
            "In his Hypothesis of Light of 1675, Newton posited the existence of the ether to transmit forces between particles. The contact with the Cambridge Platonist philosopher Henry More revived his interest in alchemy. He replaced the ether with occult forces based on Hermetic ideas of attraction and repulsion between particles. John Maynard Keynes, who acquired many of Newton's writings on alchemy, stated that \"Newton was not the first of the age of reason: He was the last of the magicians.\" Newton's interest in alchemy cannot be isolated from his contributions to science. This was at a time when there was no clear distinction between alchemy and science. Had he not relied on the occult idea of action at a distance, across a vacuum, he might not have developed his theory of gravity.\n",
            "In 1704, Newton published Opticks, in which he expounded his corpuscular theory of light. He considered light to be made up of extremely subtle corpuscles, that ordinary matter was made of grosser corpuscles and speculated that through a kind of alchemical transmutation \"Are not gross Bodies and Light convertible into one another, ... and may not Bodies receive much of their Activity from the Particles of Light which enter their Composition?\" Newton also constructed a primitive form of a frictional electrostatic generator, using a glass globe.In his book Opticks, Newton was the first to show a diagram using a prism as a beam expander, and also the use of multiple-prism arrays. Some 278 years after Newton's discussion, multiple-prism beam expanders became central to the development of narrow-linewidth tunable lasers. Also, the use of these prismatic beam expanders led to the multiple-prism dispersion theory.Subsequent to Newton, much has been amended. Young and Fresnel combined Newton's particle theory with Huygens' wave theory to show that colour is the visible manifestation of light's wavelength. Science also slowly came to realise the difference between perception of colour and mathematisable optics. The German poet and scientist, Goethe, could not shake the Newtonian foundation but \"one hole Goethe did find in Newton's armour, ... Newton had committed himself to the doctrine that refraction without colour was impossible. He, therefore, thought that the object-glasses of telescopes must forever remain imperfect, achromatism and refraction being incompatible. This inference was proved by Dollond to be wrong.\"\n",
            "\n",
            "\n",
            "==== Mechanics and gravitation ====\n",
            "\n",
            "In 1679, Newton returned to his work on celestial mechanics by considering gravitation and its effect on the orbits of planets with reference to Kepler's laws of planetary motion. This followed stimulation by a brief exchange of letters in 1679–80 with Hooke, who had been appointed to manage the Royal Society's correspondence, and who opened a correspondence intended to elicit contributions from Newton to Royal Society transactions. Newton's reawakening interest in astronomical matters received further stimulus by the appearance of a comet in the winter of 1680–1681, on which he corresponded with John Flamsteed. After the exchanges with Hooke, Newton worked out proof that the elliptical form of planetary orbits would result from a centripetal force inversely proportional to the square of the radius vector. Newton communicated his results to Edmond Halley and to the Royal Society in De motu corporum in gyrum, a tract written on about nine sheets which was copied into the Royal Society's Register Book in December 1684. This tract contained the nucleus that Newton developed and expanded to form the Principia.\n",
            "The Principia was published on 5 July 1687 with encouragement and financial help from Edmond Halley. In this work, Newton stated the three universal laws of motion. Together, these laws describe the relationship between any object, the forces acting upon it and the resulting motion, laying the foundation for classical mechanics. They contributed to many advances during the Industrial Revolution which soon followed and were not improved upon for more than 200 years. Many of these advancements continue to be the underpinnings of non-relativistic technologies in the modern world. He used the Latin word gravitas (weight) for the effect that would become known as gravity, and defined the law of universal gravitation.In the same work, Newton presented a calculus-like method of geometrical analysis using 'first and last ratios', gave the first analytical determination (based on Boyle's law) of the speed of sound in air, inferred the oblateness of Earth's spheroidal figure, accounted for the precession of the equinoxes as a result of the Moon's gravitational attraction on the Earth's oblateness, initiated the gravitational study of the irregularities in the motion of the Moon, provided a theory for the determination of the orbits of comets, and much more.Newton made clear his heliocentric view of the Solar System—developed in a somewhat modern way because already in the mid-1680s he recognised the \"deviation of the Sun\" from the centre of gravity of the Solar System. For Newton, it was not precisely the centre of the Sun or any other body that could be considered at rest, but rather \"the common centre of gravity of the Earth, the Sun and all the Planets is to be esteem'd the Centre of the World\", and this centre of gravity \"either is at rest or moves uniformly forward in a right line\" (Newton adopted the \"at rest\" alternative in view of common consent that the centre, wherever it was, was at rest).Newton's postulate of an invisible force able to act over vast distances led to him being criticised for introducing \"occult agencies\" into science. Later, in the second edition of the Principia (1713), Newton firmly rejected such criticisms in a concluding General Scholium, writing that it was enough that the phenomena implied a gravitational attraction, as they did; but they did not so far indicate its cause, and it was both unnecessary and improper to frame hypotheses of things that were not implied by the phenomena. (Here Newton used what became his famous expression \"hypotheses non-fingo\").\n",
            "With the Principia, Newton became internationally recognised. He acquired a circle of admirers, including the Swiss-born mathematician Nicolas Fatio de Duillier.\n",
            "\n",
            "\n",
            "==== Classification of cubics ====\n",
            "\n",
            "Newton found 72 of the 78 \"species\" of cubic curves and categorised them into four types. In 1717, and probably with Newton's help, James Stirling proved that every cubic was one of these four types. Newton also claimed that the four types could be obtained by plane projection from one of them, and this was proved in 1731, four years after his death.\n",
            "\n",
            "\n",
            "=== Later life ===\n",
            "\n",
            "In the 1690s, Newton wrote a number of religious tracts dealing with the literal and symbolic interpretation of the Bible. A manuscript Newton sent to John Locke in which he disputed the fidelity of 1 John 5:7—the Johannine Comma—and its fidelity to the original manuscripts of the New Testament, remained unpublished until 1785.Newton was also a member of the Parliament of England for Cambridge University in 1689 and 1701, but according to some accounts his only comments were to complain about a cold draught in the chamber and request that the window be closed. He was, however, noted by Cambridge diarist Abraham de la Pryme to have rebuked students who were frightening locals by claiming that a house was haunted.Newton moved to London to take up the post of warden of the Royal Mint in 1696, a position that he had obtained through the patronage of Charles Montagu, 1st Earl of Halifax, then Chancellor of the Exchequer. He took charge of England's great recoining, trod on the toes of Lord Lucas, Governor of the Tower, and secured the job of deputy comptroller of the temporary Chester branch for Edmond Halley. Newton became perhaps the best-known Master of the Mint upon the death of Thomas Neale in 1699, a position Newton held for the last 30 years of his life. These appointments were intended as sinecures, but Newton took them seriously. He retired from his Cambridge duties in 1701, and exercised his authority to reform the currency and punish clippers and counterfeiters.\n",
            "As Warden, and afterwards as Master, of the Royal Mint, Newton estimated that 20 percent of the coins taken in during the Great Recoinage of 1696 were counterfeit. Counterfeiting was high treason, punishable by the felon being hanged, drawn and quartered. Despite this, convicting even the most flagrant criminals could be extremely difficult, however, Newton proved equal to the task.Disguised as a habitué of bars and taverns, he gathered much of that evidence himself. For all the barriers placed to prosecution, and separating the branches of government, English law still had ancient and formidable customs of authority. Newton had himself made a justice of the peace in all the home counties. A draft letter regarding the matter is included in Newton's personal first edition of Philosophiæ Naturalis Principia Mathematica, which he must have been amending at the time. Then he conducted more than 100 cross-examinations of witnesses, informers, and suspects between June 1698 and Christmas 1699. Newton successfully prosecuted 28 coiners.\n",
            "\n",
            "Newton was made President of the Royal Society in 1703 and an associate of the French Académie des Sciences. In his position at the Royal Society, Newton made an enemy of John Flamsteed, the Astronomer Royal, by prematurely publishing Flamsteed's Historia Coelestis Britannica, which Newton had used in his studies.In April 1705, Queen Anne knighted Newton during a royal visit to Trinity College, Cambridge. The knighthood is likely to have been motivated by political considerations connected with the parliamentary election in May 1705, rather than any recognition of Newton's scientific work or services as Master of the Mint. Newton was the second scientist to be knighted, after Sir Francis Bacon.As a result of a report written by Newton on 21 September 1717 to the Lords Commissioners of His Majesty's Treasury, the bimetallic relationship between gold coins and silver coins was changed by Royal proclamation on 22 December 1717, forbidding the exchange of gold guineas for more than 21 silver shillings. This inadvertently resulted in a silver shortage as silver coins were used to pay for imports, while exports were paid for in gold, effectively moving Britain from the silver standard to its first gold standard. It is a matter of debate as to whether he intended to do this or not. It has been argued that Newton conceived of his work at the Mint as a continuation of his alchemical work.Newton was invested in the South Sea Company and lost some £20,000 (US$3 million in 2003) when it collapsed in around 1720.Toward the end of his life, Newton took up residence at Cranbury Park, near Winchester with his niece and her husband, until his death in 1727. His half-niece, Catherine Barton Conduitt, served as his hostess in social affairs at his house on Jermyn Street in London; he was her \"very loving Uncle\", according to his letter to her when she was recovering from smallpox.\n",
            "\n",
            "\n",
            "=== Death ===\n",
            "Newton died in his sleep in London on 20 March 1727 (OS 20 March 1726; NS 31 March 1727). His body was buried in Westminster Abbey. Voltaire may have been present at his funeral. A bachelor, he had divested much of his estate to relatives during his last years, and died intestate. His papers went to John Conduitt and Catherine Barton. After his death, Newton's hair was examined and found to contain mercury, probably resulting from his alchemical pursuits. Mercury poisoning could explain Newton's eccentricity in late life.\n",
            "\n",
            "\n",
            "=== Personal relations ===\n",
            "Although it was claimed that he was once engaged, Newton never married. The French writer and philosopher Voltaire, who was in London at the time of Newton's funeral, said that he \"was never sensible to any passion, was not subject to the common frailties of mankind, nor had any commerce with women—a circumstance which was assured me by the physician and surgeon who attended him in his last moments\". The widespread belief that he died a virgin has been commented on by writers such as mathematician Charles Hutton, economist John Maynard Keynes, and physicist Carl Sagan.Newton had a close friendship with the Swiss mathematician Nicolas Fatio de Duillier, whom he met in London around 1689—some of their correspondence has survived. Their relationship came to an abrupt and unexplained end in 1693, and at the same time Newton suffered a nervous breakdown which included sending wild accusatory letters to his friends Samuel Pepys and John Locke—his note to the latter included the charge that Locke \"endeavoured to embroil me with woemen\".\n",
            "\n",
            "\n",
            "== After death ==\n",
            "\n",
            "\n",
            "=== Fame ===\n",
            "\n",
            "The mathematician Joseph-Louis Lagrange said that Newton was the greatest genius who ever lived, and once added that Newton was also \"the most fortunate, for we cannot find more than once a system of the world to establish.\" English poet Alexander Pope wrote the famous epitaph:\n",
            "\n",
            "Nature and nature's laws lay hid in night;\n",
            "God said \"Let Newton be\" and all was light.\n",
            "Newton was relatively modest about his achievements, writing in a letter to Robert Hooke in February 1676:\n",
            "\n",
            "If I have seen further it is by standing on the shoulders of giants.\n",
            "Two writers think that the above quotation, written at a time when Newton and Hooke were in dispute over optical discoveries, was an oblique attack on Hooke (said to have been short and hunchbacked), rather than—or in addition to—a statement of modesty. On the other hand, the widely known proverb about standing on the shoulders of giants, published among others by seventeenth-century poet George Herbert (a former orator of the University of Cambridge and fellow of Trinity College) in his Jacula Prudentum (1651), had as its main point that \"a dwarf on a giant's shoulders sees farther of the two\", and so its effect as an analogy would place Newton himself rather than Hooke as the 'dwarf'.\n",
            "In a later memoir, Newton wrote:\n",
            "\n",
            "I do not know what I may appear to the world, but to myself I seem to have been only like a boy playing on the sea-shore, and diverting myself in now and then finding a smoother pebble or a prettier shell than ordinary, whilst the great ocean of truth lay all undiscovered before me.\n",
            "In 1816, a tooth said to have belonged to Newton was sold for £730 (us$3,633) in London to an aristocrat who had it set in a ring. The Guinness World Records 2002 classified it as the most valuable tooth, which would value approximately £25,000 (us$35,700) in late 2001. Who bought it and who currently has it has not been disclosed.\n",
            "Albert Einstein kept a picture of Newton on his study wall alongside ones of Michael Faraday and James Clerk Maxwell. In a 2005 survey of members of Britain's Royal Society (formerly headed by Newton) asking who had the greater effect on the history of science, Newton or Einstein, the members deemed Newton to have made the greater overall contribution. In 1999, an opinion poll of 100 of today's leading physicists voted Einstein the \"greatest physicist ever,\" with Newton the runner-up, while a parallel survey of rank-and-file physicists by the site PhysicsWeb gave the top spot to Newton.\n",
            "\n",
            "\n",
            "=== Commemorations ===\n",
            "\n",
            "Newton's monument (1731) can be seen in Westminster Abbey, at the north of the entrance to the choir against the choir screen, near his tomb. It was executed by the sculptor Michael Rysbrack (1694–1770) in white and grey marble with design by the architect William Kent. The monument features a figure of Newton reclining on top of a sarcophagus, his right elbow resting on several of his great books and his left hand pointing to a scroll with a mathematical design. Above him is a pyramid and a celestial globe showing the signs of the Zodiac and the path of the comet of 1680. A relief panel depicts putti using instruments such as a telescope and prism. The Latin inscription on the base translates as:Here is buried Isaac Newton, Knight, who by a strength of mind almost divine, and mathematical principles peculiarly his own, explored the course and figures of the planets, the paths of comets, the tides of the sea, the dissimilarities in rays of light, and, what no other scholar has previously imagined, the properties of the colours thus produced. Diligent, sagacious and faithful, in his expositions of nature, antiquity and the holy Scriptures, he vindicated by his philosophy the majesty of God mighty and good, and expressed the simplicity of the Gospel in his manners. Mortals rejoice that there has existed such and so great an ornament of the human race! He was born on 25 December 1642, and died on 20 March 1726/7.—Translation from G.L. Smyth, The Monuments and Genii of St. Paul's Cathedral, and of Westminster Abbey (1826), ii, 703–704.\n",
            "From 1978 until 1988, an image of Newton designed by Harry Ecclestone appeared on Series D £1 banknotes issued by the Bank of England (the last £1 notes to be issued by the Bank of England). Newton was shown on the reverse of the notes holding a book and accompanied by a telescope, a prism and a map of the Solar System.\n",
            "\n",
            "A statue of Isaac Newton, looking at an apple at his feet, can be seen at the Oxford University Museum of Natural History. A large bronze statue, Newton, after William Blake, by Eduardo Paolozzi, dated 1995 and inspired by Blake's etching, dominates the piazza of the British Library in London.\n",
            "\n",
            "\n",
            "== Religious views ==\n",
            "\n",
            "Although born into an Anglican family, by his thirties Newton held a Christian faith that, had it been made public, would not have been considered orthodox by mainstream Christianity, with one historian labelling him a heretic.By 1672, he had started to record his theological researches in notebooks which he showed to no one and which have only recently been examined. They demonstrate an extensive knowledge of early Church writings and show that in the conflict between Athanasius and Arius which defined the Creed, he took the side of Arius, the loser, who rejected the conventional view of the Trinity. Newton \"recognized Christ as a divine mediator between God and man, who was subordinate to the Father who created him.\" He was especially interested in prophecy, but for him, \"the great apostasy was trinitarianism.\"Newton tried unsuccessfully to obtain one of the two fellowships that exempted the holder from the ordination requirement. At the last moment in 1675 he received a dispensation from the government that excused him and all future holders of the Lucasian chair.In Newton's eyes, worshipping Christ as God was idolatry, to him the fundamental sin. In 1999, historian Stephen D. Snobelen wrote, \"Isaac Newton was a heretic. But ... he never made a public declaration of his private faith—which the orthodox would have deemed extremely radical. He hid his faith so well that scholars are still unraveling his personal beliefs.\" Snobelen concludes that Newton was at least a Socinian sympathiser (he owned and had thoroughly read at least eight Socinian books), possibly an Arian and almost certainly an anti-trinitarian.In a minority position, T.C. Pfizenmaier offers a more nuanced view, arguing that Newton held closer to the Semi-Arian view of the Trinity that Jesus Christ was of a \"similar substance\" (homoiousios) from the Father rather than the orthodox view that Jesus Christ is of the \"same substance\" of the Father (homoousios) as endorsed by modern Eastern Orthodox, Roman Catholics and Protestants. However, this type of view 'has lost support of late with the availability of Newton's theological papers', and now most scholars identify Newton as an Antitrinitarian monotheist.Although the laws of motion and universal gravitation became Newton's best-known discoveries, he warned against using them to view the Universe as a mere machine, as if akin to a great clock. He said, \"So then gravity may put the planets into motion, but without the Divine Power it could never put them into such a circulating motion, as they have about the sun\".Along with his scientific fame, Newton's studies of the Bible and of the early Church Fathers were also noteworthy. Newton wrote works on textual criticism, most notably An Historical Account of Two Notable Corruptions of Scripture and Observations upon the Prophecies of Daniel, and the Apocalypse of St. John. He placed the crucifixion of Jesus Christ at 3 April, AD 33, which agrees with one traditionally accepted date.He believed in a rationally immanent world, but he rejected the hylozoism implicit in Leibniz and Baruch Spinoza. The ordered and dynamically informed Universe could be understood, and must be understood, by an active reason. In his correspondence, Newton claimed that in writing the Principia \"I had an eye upon such Principles as might work with considering men for the belief of a Deity\". He saw evidence of design in the system of the world: \"Such a wonderful uniformity in the planetary system must be allowed the effect of choice\". But Newton insisted that divine intervention would eventually be required to reform the system, due to the slow growth of instabilities. For this, Leibniz lampooned him: \"God Almighty wants to wind up his watch from time to time: otherwise it would cease to move. He had not, it seems, sufficient foresight to make it a perpetual motion.\"Newton's position was vigorously defended by his follower Samuel Clarke in a famous correspondence. A century later, Pierre-Simon Laplace's work \"Celestial Mechanics\" had a natural explanation for why the planet orbits do not require periodic divine intervention. The contrast between Laplace's mechanistic worldview and Newton's one is the most strident considering the famous answer which the French scientist gave Napoleon, who had criticised him for the absence of the Creator in the Mécanique céleste: \"Sire, j'ai pu me passer de cette hypothese\" (\"I do not need such a hypothesis\").Scholars long debated whether Newton disputed the doctrine of the Trinity. His first biographer, Sir David Brewster, who compiled his manuscripts, interpreted Newton as questioning the veracity of some passages used to support the Trinity, but never denying the doctrine of the Trinity as such. In the twentieth century, encrypted manuscripts written by Newton and bought by John Maynard Keynes (among others) were deciphered and it became known that Newton did indeed reject Trinitarianism.\n",
            "\n",
            "\n",
            "=== Effect on religious thought ===\n",
            "\n",
            "Newton and Robert Boyle's approach to the mechanical philosophy was promoted by rationalist pamphleteers as a viable alternative to the pantheists and enthusiasts, and was accepted hesitantly by orthodox preachers as well as dissident preachers like the latitudinarians. The clarity and simplicity of science was seen as a way to combat the emotional and metaphysical superlatives of both superstitious enthusiasm and the threat of atheism, and at the same time, the second wave of English deists used Newton's discoveries to demonstrate the possibility of a \"Natural Religion\".\n",
            "The attacks made against pre-Enlightenment \"magical thinking\", and the mystical elements of Christianity, were given their foundation with Boyle's mechanical conception of the universe. Newton gave Boyle's ideas their completion through mathematical proofs and, perhaps more importantly, was very successful in popularising them.\n",
            "\n",
            "\n",
            "=== Occult ===\n",
            "\n",
            "In a manuscript he wrote in 1704 (never intended to be published), he mentions the date of 2060, but it is not given as a date for the end of days. It has been falsely reported as a prediction. The passage is clear when the date is read in context. He was against date setting for the end of days, concerned that this would put Christianity into disrepute.\n",
            "\"So then the time times & half a time  [sic] are 42 months or 1260 days or three years & an half, recconing twelve months to a year & 30 days to a month as was done in the Calender  [sic] of the primitive year. And the days of short lived Beasts being put for the years of [long-]lived kingdoms the period of 1260 days, if dated from the complete conquest of the three kings A.C. 800, will end 2060. It may end later, but I see no reason for its ending sooner.\"\"This I mention not to assert when the time of the end shall be, but to put a stop to the rash conjectures of fanciful men who are frequently predicting the time of the end, and by doing so bring the sacred prophesies into discredit as often as their predictions fail. Christ comes as a thief in the night, and it is not for us to know the times and seasons which God hath put into his own breast.\"\n",
            "\n",
            "\n",
            "=== Alchemy ===\n",
            "In the character of Morton Opperly in \"Poor Superman\" (1951), speculative fiction author Fritz Leiber says of Newton, \"Everyone knows Newton as the great scientist. Few remember that he spent half his life muddling with alchemy, looking for the philosopher's stone. That was the pebble by the seashore he really wanted to find.\"Of an estimated ten million words of writing in Newton's papers, about one million deal with alchemy. Many of Newton's writings on alchemy are copies of other manuscripts, with his own annotations. Alchemical texts mix artisanal knowledge with philosophical speculation, often hidden behind layers of wordplay, allegory, and imagery to protect craft secrets. Some of the content contained in Newton's papers could have been considered heretical by the church.In 1888, after spending sixteen years cataloguing Newton's papers, Cambridge University kept a small number and returned the rest to the Earl of Portsmouth. In 1936, a descendant offered the papers for sale at Sotheby's. The collection was broken up and sold for a total of about £9,000. John Maynard Keynes was one of about three dozen bidders who obtained part of the collection at auction. Keynes went on to reassemble an estimated half of Newton's collection of papers on alchemy before donating his collection to Cambridge University in 1946.All of Newton's known writings on alchemy are currently being put online in a project undertaken by Indiana University: \"The Chymistry of Isaac Newton\" and summarised in a book.\n",
            "Newton's fundamental contributions to science include the quantification of gravitational attraction, the discovery that white light is actually a mixture of immutable spectral colors, and the formulation of the calculus. Yet there is another, more mysterious side to Newton that is imperfectly known, a realm of activity that spanned some thirty years of his life, although he kept it largely hidden from his contemporaries and colleagues. We refer to Newton's involvement in the discipline of alchemy, or as it was often called in seventeenth-century England, \"chymistry.\"\n",
            "Charles Coulston Gillispie disputes that Newton ever practised alchemy, saying that \"his chemistry was in the spirit of Boyle's corpuscular philosophy.\"In June 2020, two unpublished pages of Newton's notes on Jan Baptist van Helmont's book on plague, De Peste, were being auctioned online by Bonham's. Newton's analysis of this book, which he made in Cambridge while protecting himself from London's 1665-1666 infection, is the most substantial written statement he is known to have made about the plague, according to Bonham's. As far as the therapy is concerned, Newton writes that \"the best is a toad suspended by the legs in a chimney for three days, which at last vomited up earth with various insects in it, on to a dish of yellow wax, and shortly after died. Combining powdered toad with the excretions and serum made into lozenges and worn about the affected area drove away the contagion and drew out the poison\".\n",
            "\n",
            "\n",
            "== Enlightenment philosophers ==\n",
            "Enlightenment philosophers chose a short history of scientific predecessors—Galileo, Boyle, and Newton principally—as the guides and guarantors of their applications of the singular concept of nature and natural law to every physical and social field of the day. In this respect, the lessons of history and the social structures built upon it could be discarded.It was Newton's conception of the universe based upon natural and rationally understandable laws that became one of the seeds for Enlightenment ideology. Locke and Voltaire applied concepts of natural law to political systems advocating intrinsic rights; the physiocrats and Adam Smith applied natural conceptions of psychology and self-interest to economic systems; and sociologists criticised the current social order for trying to fit history into natural models of progress. Monboddo and Samuel Clarke resisted elements of Newton's work, but eventually rationalised it to conform with their strong religious views of nature.\n",
            "\n",
            "\n",
            "== Apple incident ==\n",
            "\n",
            "Newton himself often told the story that he was inspired to formulate his theory of gravitation by watching the fall of an apple from a tree. The story is believed to have passed into popular knowledge after being related by Catherine Barton, Newton's niece, to Voltaire. Voltaire then wrote in his Essay on Epic Poetry (1727), \"Sir Isaac Newton walking in his gardens, had the first thought of his system of gravitation, upon seeing an apple falling from a tree.\"\n",
            "Although it has been said that the apple story is a myth and that he did not arrive at his theory of gravity at any single moment, acquaintances of Newton (such as William Stukeley, whose manuscript account of 1752 has been made available by the Royal Society) do in fact confirm the incident, though not the apocryphal version that the apple actually hit Newton's head. Stukeley recorded in his Memoirs of Sir Isaac Newton's Life a conversation with Newton in Kensington on 15 April 1726:\n",
            "we went into the garden, & drank thea under the shade of some appletrees, only he, & myself. amidst other discourse, he told me, he was just in the same situation, as when formerly, the notion of gravitation came into his mind. \"why should that apple always descend perpendicularly to the ground,\" thought he to him self: occasion'd by the fall of an apple, as he sat in a comtemplative mood: \"why should it not go sideways, or upwards? but constantly to the earths centre? assuredly, the reason is, that the earth draws it. there must be a drawing power in matter. & the sum of the drawing power in the matter of the earth must be in the earths center, not in any side of the earth. therefore dos this apple fall perpendicularly, or toward the center. if matter thus draws matter; it must be in proportion of its quantity. therefore the apple draws the earth, as well as the earth draws the apple.\"\n",
            "John Conduitt, Newton's assistant at the Royal Mint and husband of Newton's niece, also described the event when he wrote about Newton's life:\n",
            "In the year 1666 he retired again from Cambridge to his mother in Lincolnshire. Whilst he was pensively meandering in a garden it came into his thought that the power of gravity (which brought an apple from a tree to the ground) was not limited to a certain distance from earth, but that this power must extend much further than was usually thought. Why not as high as the Moon said he to himself & if so, that must influence her motion & perhaps retain her in her orbit, whereupon he fell a calculating what would be the effect of that supposition.\n",
            "It is known from his notebooks that Newton was grappling in the late 1660s with the idea that terrestrial gravity extends, in an inverse-square proportion, to the Moon; however, it took him two decades to develop the full-fledged theory. The question was not whether gravity existed, but whether it extended so far from Earth that it could also be the force holding the Moon to its orbit. Newton showed that if the force decreased as the inverse square of the distance, one could indeed calculate the Moon's orbital period, and get good agreement. He guessed the same force was responsible for other orbital motions, and hence named it \"universal gravitation\".\n",
            "Various trees are claimed to be \"the\" apple tree which Newton describes. The King's School, Grantham claims that the tree was purchased by the school, uprooted and transported to the headmaster's garden some years later. The staff of the (now) National Trust-owned Woolsthorpe Manor dispute this, and claim that a tree present in their gardens is the one described by Newton. A descendant of the original tree can be seen growing outside the main gate of Trinity College, Cambridge, below the room Newton lived in when he studied there. The National Fruit Collection at Brogdale in Kent can supply grafts from their tree, which appears identical to Flower of Kent, a coarse-fleshed cooking variety.\n",
            "\n",
            "\n",
            "== Works ==\n",
            "\n",
            "\n",
            "=== Published in his lifetime ===\n",
            "De analysi per aequationes numero terminorum infinitas (1669, published 1711)\n",
            "Of Natures Obvious Laws & Processes in Vegetation (unpublished, c. 1671–75)\n",
            "De motu corporum in gyrum (1684)\n",
            "Philosophiæ Naturalis Principia Mathematica (1687)\n",
            "Scala graduum Caloris. Calorum Descriptiones & signa (1701)\n",
            "Opticks (1704)\n",
            "Reports as Master of the Mint (1701–1725)\n",
            "Arithmetica Universalis (1707)\n",
            "\n",
            "\n",
            "=== Published posthumously ===\n",
            "De mundi systemate (The System of the World) (1728)\n",
            "Optical Lectures (1728)\n",
            "The Chronology of Ancient Kingdoms Amended (1728)\n",
            "Observations on Daniel and The Apocalypse of St. John (1733)\n",
            "Method of Fluxions (1671, published 1736)\n",
            "An Historical Account of Two Notable Corruptions of Scripture (1754)\n",
            "\n",
            "\n",
            "=== Primary sources ===\n",
            "\n",
            "\n",
            "== See also ==\n",
            "Elements of the Philosophy of Newton, a book by Voltaire\n",
            "List of multiple discoveries: seventeenth century\n",
            "List of things named after Isaac Newton\n",
            "\n",
            "\n",
            "== References ==\n",
            "Notes\n",
            "Citations\n",
            "\n",
            "\n",
            "=== Sources ===\n",
            "\n",
            "\n",
            "== Further reading ==\n",
            "\n",
            "\n",
            "=== Alchemy and non-scientific life ===\n",
            "Craig, John (1946). Newton at the Mint. Cambridge, England: Cambridge University Press.\n",
            "Craig, John (1953). \"XII. Isaac Newton\". The Mint: A History of the London Mint from A.D. 287 to 1948. Cambridge, England: Cambridge University Press. pp. 198–222. ASIN B0000CIHG7.\n",
            "de Villamil, Richard (1931). Newton, the Man. London: G.D. Knox. – Preface by Albert Einstein. Reprinted by Johnson Reprint Corporation, New York (1972)\n",
            "Dobbs, B.J.T. (1975). The Foundations of Newton's Alchemy or \"The Hunting of the Greene Lyon\". Cambridge: Cambridge University Press.\n",
            "Keynes, John Maynard (1963). Essays in Biography. W.W. Norton & Co. ISBN 978-0-393-00189-1. Keynes took a close interest in Newton and owned many of Newton's private papers.\n",
            "Stukeley, W. (1936). Memoirs of Sir Isaac Newton's Life. London: Taylor and Francis. (edited by A.H. White; originally published in 1752)\n",
            "Trabue, J. \"Ann and Arthur Storer of Calvert County, Maryland, Friends of Sir Isaac Newton,\" The American Genealogist 79 (2004): 13–27.\n",
            "\n",
            "\n",
            "=== Religion ===\n",
            "\n",
            "\n",
            "=== Science ===\n",
            "\n",
            "\n",
            "== External links ==\n",
            "\n",
            "Sir Isaac Newton at the Encyclopædia Britannica\n",
            "Works by Isaac Newton at LibriVox (public domain audiobooks) \n",
            "Isaac Newton publications indexed by Google Scholar\n",
            "ScienceWorld biography by Eric Weisstein\n",
            "Science in the Making Isaac Newton's papers in the Royal Society's archives\n",
            "\"The Chymistry of Isaac Newton\", research on his alchemical writings\n",
            "The \"General Scholium\" to Newton's Principia\n",
            "Newton's First ODE – A study by on how Newton approximated the solutions of a first-order ODE using infinite series\n",
            "Isaac Newton at the Mathematics Genealogy Project\n",
            "\"The Mind of Isaac Newton\" – images, audio, animations and interactive segments\n",
            "Enlightening Science Videos on Newton's biography, optics, physics, reception, and on his views on science and religion\n",
            "Newton biography (University of St Andrews)\n",
            "\"Newton, Sir Isaac\" . Encyclopædia Britannica. 19 (11th ed.). 1911. pp. 583–592.\n",
            "\"Archival material relating to Isaac Newton\". UK National Archives. \n",
            "Portraits of Sir Isaac Newton at the National Portrait Gallery, London \n",
            "Newspaper clippings about  Isaac Newton in the 20th Century Press Archives of the ZBW\n",
            "\n",
            "\n",
            "=== Writings by Newton ===\n",
            "Newton's works – full texts, at the Newton Project\n",
            "The Newton Manuscripts at the National Library of Israel – the collection of all his religious writings\n",
            "Works by Isaac Newton at Project Gutenberg\n",
            "Works by or about Isaac Newton at Internet Archive\n",
            "Works by Isaac Newton at LibriVox (public domain audiobooks) \n",
            "Descartes, Space, and Body and A New Theory of Light and Colour, modernised readable versions by Jonathan Bennett\n",
            "Opticks, or a Treatise of the Reflections, Refractions, Inflexions and Colours of Light, full text on archive.org\n",
            "\"Newton Papers\" – Cambridge Digital Library\n",
            "(1686) \"A letter of Mr. Isaac Newton... containing his new theory about light and colors\", Philosophical Transactions of the Royal Society, Vol. XVI, No. 179, pp. 3057–3087. – digital facsimile at the Linda Hall Library\n",
            "(1704) Opticks – digital facsimile at the Linda Hall Library\n",
            "(1719) Optice – digital facsimile at the Linda Hall Library\n",
            "(1729) Lectiones opticae – digital facsimile at the Linda Hall Library\n",
            "(1749) Optices libri tres – digital facsimile at the Linda Hall Library\n"
          ],
          "name": "stdout"
        }
      ]
    },
    {
      "cell_type": "code",
      "metadata": {
        "id": "DN53Vo4yy_v4",
        "colab_type": "code",
        "outputId": "f3e45587-c316-4d90-b7b3-20c9a844cdea",
        "colab": {
          "base_uri": "https://localhost:8080/",
          "height": 54
        }
      },
      "source": [
        "print(wikipedia.page(\"Isaac Newton\").references)"
      ],
      "execution_count": 20,
      "outputs": [
        {
          "output_type": "stream",
          "text": [
            "['http://www.businessinsider.com.au/isaac-newton-lost-a-fortune-on-englands-hottest-stock-2016-1', 'http://www.historychannel.com.au/classroom/day-in-history/553/isaac-newton-is-knighted', 'http://cantic.bnc.cat/registres/CUCId/a10433399', 'http://data.rero.ch/02-A003638065', 'http://www.bncatalogo.cl/F?func=direct&local_base=red10&doc_number=000039641', 'http://www.amazon.com/dp/B0000CIHG7', 'http://www.astro.com/astro-databank/Newton,_Isaac', \"http://www.christianpost.com/article/20070619/28049_Papers_Show_Isaac_Newton's_Religious_Side,_Predict_Date_of_Apocalypse.htm\", 'http://www.earlymoderntexts.com/', 'http://news.nationalgeographic.com/2016/04/160404-isaac-newton-alchemy-mercury-recipe-chemistry-science/', 'http://www.online-literature.com/charlotte-yonge/john-keble/6/', 'http://www.oxforddnb.com/view/article/1541', 'http://www.phaser.com/modules/historic/newton/index.html', 'http://www.pierre-marteau.com/editions/1701-25-mint-reports/report-1717-09-25.html', 'http://www.tunablelasers.com/F.J.DuarteOPN(2000).pdf', 'http://scienceworld.wolfram.com/biography/Newton.html', 'http://isaacnewtonstheology.files.wordpress.com/2013/06/heretic.pdf', 'http://etoile.berkeley.edu/~jrg/TelescopeHistory/Early_Period.html', 'http://gtresearchnews.gatech.edu/newsrelease/newton.htm', 'http://webapp1.dlib.indiana.edu/newton/html/Newton_optics-alchemy_Jacquart_paper.pdf', 'http://webapp1.dlib.indiana.edu/newton/index.jsp', 'http://www.dlib.indiana.edu/collections/newton', 'http://www.libraries.psu.edu/tas/locke/bib/ch5c.html#01160', 'http://www.libraries.psu.edu/tas/locke/mss/c1690.html', 'http://galileo.rice.edu/Catalog/NewFiles/newton.html', 'http://web.clas.ufl.edu/users/ufhatch/pages/13-NDFE/newton/05-newton-timeline-m.htm', 'http://catalogo.bne.es/uhtbin/authoritybrowse.cgi?action=display&authority_id=XX1041810', 'http://gallica.bnf.fr/ark:/12148/bpt6k3362k', 'http://www.neh.gov/humanities/2011/januaryfebruary/feature/newton-the-last-magician', 'http://pubmed.ncbi.nlm.nih.gov/19244857', 'http://pubmed.ncbi.nlm.nih.gov/3936583', 'http://www.ncbi.nlm.nih.gov/pmc/articles/PMC1419183', 'http://katalog.nsk.hr/F/?func=direct&doc_number=000020277&local_base=nsk10', 'http://uli.nli.org.il/F/?func=direct&doc_number=000099401&local_base=nlx10', 'http://web.nli.org.il/sites/NLI/English/collections/Humanities/Pages/newton.aspx', 'http://data.bibliotheken.nl/id/thes/p068482841', 'http://arxiv.org/abs/1202.4153', 'http://www.blakearchive.org/exist/blake/archive/copyinfo.xq?copyid=but306.1', 'http://www.brogdale.org', 'http://www.oac.cdlib.org/search?style=oac4;Institution=UCLA::Clark%20(William%20Andrews)%20Memorial%20Library;idT=4859632', 'http://www.chlt.org/sandbox/lhl/dsb/page.50.a.php', 'http://doi.org/10.1007%2Fs10699-012-9285-8', 'http://doi.org/10.1017%2FS0007087499003751', 'http://doi.org/10.1017%2FS1474691300001256', 'http://doi.org/10.1038%2F182149a0', 'http://doi.org/10.1086%2F353114', 'http://doi.org/10.1098%2Frsnr.1963.0017', 'http://doi.org/10.1098%2Frsnr.2007.0025', 'http://doi.org/10.1119%2F1.2350900', 'http://doi.org/10.1136%2Fbmj.291.6511.1779', 'http://doi.org/10.1353%2Fjhi.1997.0001', 'http://doi.org/10.1364%2FOPN.11.5.000024', 'http://www.gutenberg.org/ebooks/16878', 'http://www.haydenplanetarium.org/tyson/read/2005/11/01/the-perimeter-of-ignorance', 'http://www.isaac-newton.org/heretic.pdf', 'http://isni.org/isni/0000000120997897', 'http://www.jstor.org/stable/20462679', 'http://www.jstor.org/stable/29521701', 'http://www.jstor.org/stable/3020836', 'http://www.jstor.org/stable/3653988', 'http://www.jstor.org/stable/4027945', 'http://lhldigital.lindahall.org/cdm/ref/collection/color/id/15635', 'http://lhldigital.lindahall.org/cdm/ref/collection/color/id/3080', 'http://lhldigital.lindahall.org/cdm/ref/collection/color/id/33634', 'http://lhldigital.lindahall.org/cdm/ref/collection/color/id/35921', 'http://lhldigital.lindahall.org/cdm/ref/collection/color/id/35293', 'http://purl.org/pressemappe20/folder/pe/012877', 'http://royalsociety.org/News.aspx?id=1324&terms=Newton+beats+Einstein+in+polls+of+scientists+and+the+public', 'http://pdfs.semanticscholar.org/a408/f4ddfae120b377489c16e6539f840d5dadba.pdf', 'http://www.westminster-abbey.org/our-history/people/sir-isaac-newton', 'http://www.worldcat.org/oclc/276340857', 'http://www.worldcat.org/oclc/606137087', 'http://aleweb.ncl.edu.tw/F/?func=accref&acc_sequence=001181923&CON_LNG=ENG', 'http://cudl.lib.cam.ac.uk/collections/newton', 'http://cudl.lib.cam.ac.uk/view/MS-ADD-03970/', 'http://cudl.lib.cam.ac.uk/view/MS-ADD-04004', 'http://cudl.lib.cam.ac.uk/view/PR-ADV-B-00039-00001/', 'http://janus.lib.cam.ac.uk/db/node.xsp?id=CV/Pers/Duillier,%20Nicholas%20Fatio%20de%20(1664-1753)%20mathematician%20and%20natural%20philosopher', 'http://venn.lib.cam.ac.uk/cgi-bin/search-2018.pl?sur=&suro=w&fir=&firo=c&cit=&cito=c&c=all&z=all&tex=NWTN661I&sye=&eye=&col=all&maxcount=50', 'http://www.newtonproject.ox.ac.uk/view/texts/normalized/OTHE00001', 'http://www-history.mcs.st-and.ac.uk/Extras/Keynes_Newton.html', 'http://www-history.mcs.st-andrews.ac.uk/Mathematicians/Newton.html', 'http://www.enlighteningscience.sussex.ac.uk/home', 'http://www.newtonproject.sussex.ac.uk/prism.php?id=43', 'http://www.newtonproject.sussex.ac.uk/view/texts/normalized/NATP00004', 'http://www.newtonproject.sussex.ac.uk/view/texts/normalized/THEM00167', 'http://www.bankofengland.co.uk/banknotes/denom_guide/nonflash/1-SeriesD-Revised.htm', 'http://news.bbc.co.uk/2/hi/science/nature/541840.stm', 'http://www.brogdale.org.uk/image1.php?varietyid=1089', 'http://www.museumoflondon.org.uk/archive/exhibits/pepys/pages/largeImage.asp?id=101&size=3&nav=none', 'https://nla.gov.au/anbd.aut-an35385821', 'https://trove.nla.gov.au/people/934134', 'https://www.amazon.com/Guinness-World-Records-Antonia-Cunningham/dp/product-description/0553583786', 'https://www.britannica.com/EBchecked/topic/413189', 'https://www.firstthings.com/article/2005/01/the-deist-minimum', 'https://books.google.com/books/about/Newton.html?id=8N5tQgAACAAJ', 'https://books.google.com/books?id=-Er5pIsYe_AC&pg=PA49', 'https://books.google.com/books?id=1ZcYsNBptfYC&pg=PA400', 'https://books.google.com/books?id=1xKFSqsDj0MC&pg=PAPT57', 'https://books.google.com/books?id=2f5LAgAAQBAJ', 'https://books.google.com/books?id=4WGdBgAAQBAJ&pg=PA251', 'https://books.google.com/books?id=7R8LsvMcUioC', 'https://books.google.com/books?id=Cl06FjKX6doC', 'https://books.google.com/books?id=Dz2FzJqaJMUC&pg=PA403', 'https://books.google.com/books?id=Dz2FzJqaJMUC&pg=PA436&dq=%22gravity%20may%20put%20the%20planets%20into%20motion%22', 'https://books.google.com/books?id=KAWwzHlDVksC&dq=%22history%2Bof%2Bthe%2Btelescope%22', 'https://books.google.com/books?id=N-hHAQAAMAAJ&pg=PA102', 'https://books.google.com/books?id=SQXcpvjcJBUC&pg=PAPA117', 'https://books.google.com/books?id=Tm0FAAAAQAAJ&pg=PA41', 'https://books.google.com/books?id=Tm0FAAAAQAAJ&pg=PA54', 'https://books.google.com/books?id=TqcMQy-Ioc4C&pg=PA118&dq=catherine+barton+apple#v=onepage', 'https://books.google.com/books?id=XXNeCwAAQBAJ&pg=PT113&lpg=PT113&dq=%22It+may+end+later,+but+I+see+no+reason+for+its+ending+sooner,%22#v=onepage', 'https://books.google.com/books?id=Ye_1AAAAQBAJ&pg=PAPA81', 'https://books.google.com/books?id=_xk2AAAAQAAJ&pg=PAPA100', 'https://books.google.com/books?id=kPCgnc70MSgC&pg=PAPA4', 'https://books.google.com/books?id=lIZ0v23iqRgC&pg=PA30', 'https://books.google.com/books?id=pOQy6-qnVx8C&pg=PA563&lpg=PA563&dq=de+analysi+per+aequationes+numero+terminorum+infinitas&ots=GSuOWdev_q&sig=oEPpGMF9tpwGZRXnGF2WclkSzN8&hl=en&sa=X&ei=bJgiT-f_HKiP0AWcrPTNCg&ved=0CDkQ6AEwBTgU#v=onepage&q=de%20analysi%20per%20aequationes%20numero%20terminorum%20infinitas&f=false', 'https://books.google.com/books?id=pWouCwAAQBAJ', 'https://books.google.com/books?id=rkQKU-wfPYMC&pg=PA233', 'https://books.google.com/books?id=uvMGAAAAcAAJ&pg=RA1-PA2', 'https://books.google.com/books?id=x8NeAAAAcAAJ&pg=PA824', 'https://scholar.google.com/citations?user=xJaxiEEAAAAJ', 'https://www.newscientist.com/blogs/culturelab/2010/01/newtons-apple-the-real-story.php', 'https://query.nytimes.com/gst/abstract.html?res=9E02E4DE1730EE3ABC4E52DFB766838A699FDE', 'https://www.questia.com/read/105054986', 'https://www.theguardian.com/books/2020/jun/02/isaac-newton-plague-cure-toad-vomit', 'https://www.upi.com/Top_News/2019/01/04/UPI-Almanac-for-Friday-Jan-4-2019/5471546221584/', 'https://www.wired.com/2014/05/newton-papers-q-and-a/', 'https://newtonprojectca.files.wordpress.com/2013/06/reply-to-tom-harpur-2-page-full-version.pdf', 'https://thonyc.wordpress.com/2015/03/20/calendrical-confusion-or-just-when-did-newton-die/', 'https://aleph.nkp.cz/F/?func=find-c&local_base=aut&ccl_term=ica=jn20000604178&CON_LNG=ENG', 'https://www.getty.edu/vow/ULANFullDisplay?find=&role=&nation=&subjectid=500330573', 'https://ui.adsabs.harvard.edu/abs/1958Natur.182..149C', 'https://ui.adsabs.harvard.edu/abs/1966PhTea...4....8M', 'https://ui.adsabs.harvard.edu/abs/2000OptPN..11...24D', 'https://webapp1.dlib.indiana.edu/newton/', 'https://genealogy.math.ndsu.nodak.edu/id.php?id=74313', 'https://www.genealogy.math.ndsu.nodak.edu/id.php?id=74313', 'https://press.princeton.edu/titles/13261.html', 'https://catalogue.bnf.fr/ark:/12148/cb119176085', 'https://data.bnf.fr/ark:/12148/cb119176085', 'https://www.idref.fr/02704694X', 'https://id.loc.gov/authorities/names/n79007443', 'https://data.nlg.gr/resource/authority/record139366', 'https://d-nb.info/gnd/118587544', 'https://archive.is/20030513080422/http://hss.fullerton.edu/philosophy/GeneralScholium.htm', 'https://archive.is/20100121073908/http://www.newscientist.com/blogs/culturelab/2010/01/newtons-apple-the-real-story.php', 'https://archive.is/20130217100410/http://gtresearchnews.gatech.edu/newsrelease/newton.htm', 'https://opac.sbn.it/opacsbn/opac/iccu/scheda_authority.jsp?bid=IT%5CICCU%5CCFIV%5C002501', 'https://ci.nii.ac.jp/author/DA00086072?l=en', 'https://id.ndl.go.jp/auth/ndlna/00451249', 'https://nl.go.kr/authorities/resource/KAC199620161', 'https://kopkatalogs.lv/F?func=direct&local_base=lnc10&doc_number=000045050&P_CON_LNG=ENG', 'https://authority.bibsys.no/authority/rest/authorities/html/90116488', 'https://blogs.otago.ac.nz/emxphi/', 'https://blogs.otago.ac.nz/emxphi/2010/10/does-newton-feign-an-hypothesis/', 'https://archive.org/details/backgroundtonewt0000heri', 'https://archive.org/details/bub_gb_6EqxPav3vIsC/page/n257', 'https://archive.org/details/edgeofobjectivit00char', 'https://archive.org/details/edgeofobjectivit00char/page/122', 'https://archive.org/details/essaysinbiograph0000keyn', 'https://archive.org/details/genealogicalmemo00inlond', 'https://archive.org/details/greatexperiments0000unse', 'https://archive.org/details/historicheraldry0000wagn/page/85', 'https://archive.org/details/inpresenceofcr00chri', 'https://archive.org/details/neveratrestbiogr00west/page/530', 'https://archive.org/details/newtoncounterfei00leve_1', 'https://archive.org/details/newtoniansenglis00jaco', 'https://archive.org/details/newtoniansenglis00jaco/page/37', 'https://archive.org/details/numismaticser1v05royauoft', 'https://archive.org/details/opticksoratreat00newtgoog', 'https://archive.org/details/portraitofisaacn00manu', 'https://archive.org/details/shortaccountofhi0000ball', 'https://archive.org/search.php?query=((subject:%22Newton,%20Isaac%22%20OR%20subject:%22Isaac%20Newton%22%20OR%20creator:%22Newton,%20Isaac%22%20OR%20creator:%22Isaac%20Newton%22%20OR%20creator:%22Newton,%20I.%22%20OR%20title:%22Isaac%20Newton%22%20OR%20description:%22Newton,%20Isaac%22%20OR%20description:%22Isaac%20Newton%22)%20OR%20(%221642-1727%22%20AND%20Newton))%20AND%20(-mediatype:software)', 'https://archive.org/search.php?query=creator:(westfall)%20newton', 'https://archive.org/stream/lettersonenglan00voltgoog#page/n102', 'https://archive.org/stream/opticksoratreat00newtgoog#page/n6/mode/2up', 'https://web.archive.org/web/20050225223812/http://www.chlt.org/sandbox/lhl/dsb/page.50.a.php', 'https://web.archive.org/web/20061213222519/http://www.ltrc.mcmaster.ca/newton/', \"https://web.archive.org/web/20070813033620/http://www.christianpost.com/article/20070619/28049_Papers_Show_Isaac_Newton's_Religious_Side,_Predict_Date_of_Apocalypse.htm\", 'https://web.archive.org/web/20071213020643/http://webapp1.dlib.indiana.edu/newton/index.jsp', 'https://web.archive.org/web/20081201035839/http://www.brogdale.org/', 'https://web.archive.org/web/20100505053927/http://www.bankofengland.co.uk/banknotes/denom_guide/nonflash/1-SeriesD-Revised.htm', 'https://web.archive.org/web/20120331192529/http://www.museumoflondon.org.uk/archive/exhibits/pepys/pages/largeImage.asp?id=101&size=3&nav=none', 'https://web.archive.org/web/20120802071026/http://web.clas.ufl.edu/users/ufhatch/pages/13-NDFE/newton/05-newton-timeline-m.htm', 'https://web.archive.org/web/20131007005450/http://isaac-newton.org/heretic.pdf', 'https://web.archive.org/web/20150316060617/https://royalsociety.org/about-us/fellowship/fellows', 'https://web.archive.org/web/20190105012355/http://www.upi.com/Top_News/2019/01/04/UPI-Almanac-for-Friday-Jan-4-2019/5471546221584/', 'https://www.gutenberg.org/author/Newton,+Isaac,+Sir', 'https://www.jstor.org/stable/236236', 'https://www.jstor.org/stable/301985', 'https://librivox.org/author/2836', 'https://librivox.org/search?q=Isaac+Newton&search_form=advanced', 'https://www.maa.org/press/periodicals/convergence/mathematical-treasure-newtons-method-of-fluxions', 'https://www.npr.org/templates/story/story.php?storyId=105012144', 'https://www.npr.org/templates/transcript/transcript.php?storyId=105012144', 'https://royalsociety.org/about-us/fellowship/fellows', 'https://makingscience.royalsociety.org/s/rs/people/fst01801333', 'https://www.sciencehistory.org/distillations/magazine/gold-secrecy-and-prestige', 'https://snaccooperative.org/ark:/99166/w6xd14mf', 'https://viaf.org/viaf/22146457', 'https://www.wikidata.org/wiki/Q935', 'https://www.wikidata.org/wiki/Q935#P1816', 'https://www.wikidata.org/wiki/Q935#P3029', 'https://en.wikisource.org/wiki/1911_Encyclop%C3%A6dia_Britannica/Newton,_Sir_Isaac', 'https://tools.wmflabs.org/wikidata-externalid-url?p=1695&id=A11813660', 'https://www.worldcat.org/identities/lccn-n79007443', 'https://libris.kb.se/auth/207390', 'https://literaryreview.co.uk/going-for-gold-2', 'https://www.telegraph.co.uk/news/2016/09/06/what-students-should-avoid-during-freshers-week-100-years-ago-an/', 'https://www.thegazette.co.uk/London/issue/6569/page/7', 'https://discovery.nationalarchives.gov.uk/details/c/F257055', 'https://www.npg.org.uk/collections/search/person.php?LinkID=mp03286']\n"
          ],
          "name": "stdout"
        }
      ]
    },
    {
      "cell_type": "code",
      "metadata": {
        "id": "3j-9xZXlzIJP",
        "colab_type": "code",
        "outputId": "5d61a6db-1b52-47a4-c7a3-fe56bd665c8c",
        "colab": {
          "base_uri": "https://localhost:8080/",
          "height": 34
        }
      },
      "source": [
        "print(wikipedia.page(\"Isaac Newton\").title)"
      ],
      "execution_count": 21,
      "outputs": [
        {
          "output_type": "stream",
          "text": [
            "Isaac Newton\n"
          ],
          "name": "stdout"
        }
      ]
    },
    {
      "cell_type": "code",
      "metadata": {
        "id": "bwHIWMgk0BhP",
        "colab_type": "code",
        "outputId": "d1ae0a44-1212-4174-be73-3ffb7fd53496",
        "colab": {
          "base_uri": "https://localhost:8080/",
          "height": 54
        }
      },
      "source": [
        "print(wikipedia.page(\"Isaac Newton\").categories)"
      ],
      "execution_count": 22,
      "outputs": [
        {
          "output_type": "stream",
          "text": [
            "['1642 births', '1727 deaths', '17th-century English mathematicians', '17th-century English writers', '17th-century Latin-language writers', '17th-century alchemists', '17th-century apocalypticists', '17th-century male writers', '18th-century British scientists', '18th-century English mathematicians', '18th-century English writers', '18th-century Latin-language writers', '18th-century alchemists', '18th-century apocalypticists', '18th-century male writers', 'AC with 29 elements', 'All articles with dead external links', 'All articles with specifically marked weasel-worded phrases', 'All articles with unsourced statements', 'All articles with vague or ambiguous time', 'Alumni of Trinity College, Cambridge', 'Antitrinitarians', 'Articles containing French-language text', 'Articles containing Hebrew-language text', 'Articles containing Latin-language text', 'Articles prone to spam from December 2018', 'Articles with Encyclopædia Britannica links', 'Articles with Internet Archive links', 'Articles with LibriVox links', 'Articles with Project Gutenberg links', 'Articles with dead external links from June 2017', 'Articles with hAudio microformats', 'Articles with hCards', 'Articles with permanently dead external links', 'Articles with short description', 'Articles with specifically marked weasel-worded phrases from December 2018', 'Articles with unsourced statements from December 2018', 'Articles with unsourced statements from November 2018', 'Ballistics experts', 'Biography with signature', 'Burials at Westminster Abbey', 'CS1: Julian–Gregorian uncertainty', 'CS1 maint: location', 'CS1 maint: ref=harv', 'Color scientists', 'Copernican Revolution', 'Critics of atheism', 'English Anglicans', 'English MPs 1689–1690', 'English MPs 1701–1702', 'English alchemists', 'English astronomers', 'English inventors', 'English knights', 'English mathematicians', 'English physicists', 'Enlightenment scientists', 'Experimental physicists', 'Fellows of Trinity College, Cambridge', 'Fellows of the Royal Society', 'Fluid dynamicists', 'Geometers', 'Good articles', 'Harv and Sfn no-target errors', 'Hermeticists', 'History of calculus', 'Isaac Newton', 'Knights Bachelor', 'Lucasian Professors of Mathematics', 'Masters of the Mint', 'Members of the pre-1707 Parliament of England for the University of Cambridge', 'Natural philosophers', 'Optical physicists', 'Pages using deprecated image syntax', 'Pages with missing ISBNs', \"People educated at The King's School, Grantham\", 'People from South Kesteven District', 'Philosophers of science', 'Post-Reformation Arian Christians', 'Presidents of the Royal Society', 'Scientific instrument makers', 'Spoken articles', 'Theoretical physicists', 'Use British English from March 2020', 'Use dmy dates from March 2020', 'Vague or ambiguous time from August 2018', 'Vague or ambiguous time from March 2020', 'Wikipedia articles incorporating a citation from the 1911 Encyclopaedia Britannica with Wikisource reference', 'Wikipedia articles needing page number citations from August 2014', 'Wikipedia articles with BIBSYS identifiers', 'Wikipedia articles with BNC identifiers', 'Wikipedia articles with BNE identifiers', 'Wikipedia articles with BNF identifiers', 'Wikipedia articles with CANTIC identifiers', 'Wikipedia articles with CINII identifiers', 'Wikipedia articles with GND identifiers', 'Wikipedia articles with ISNI identifiers', 'Wikipedia articles with LCCN identifiers', 'Wikipedia articles with LNB identifiers', 'Wikipedia articles with MGP identifiers', 'Wikipedia articles with NCL identifiers', 'Wikipedia articles with NDL identifiers', 'Wikipedia articles with NKC identifiers', 'Wikipedia articles with NLA identifiers', 'Wikipedia articles with NLG identifiers', 'Wikipedia articles with NLI identifiers', 'Wikipedia articles with NLK identifiers', 'Wikipedia articles with NLP identifiers', 'Wikipedia articles with NSK identifiers', 'Wikipedia articles with NTA identifiers', 'Wikipedia articles with RERO identifiers', 'Wikipedia articles with SBN identifiers', 'Wikipedia articles with SELIBR identifiers', 'Wikipedia articles with SNAC-ID identifiers', 'Wikipedia articles with SUDOC identifiers', 'Wikipedia articles with Trove identifiers', 'Wikipedia articles with ULAN identifiers', 'Wikipedia articles with VIAF identifiers', 'Wikipedia articles with WorldCat identifiers', 'Wikipedia external links cleanup from June 2020', 'Wikipedia indefinitely semi-protected pages', 'Wikipedia spam cleanup from June 2020', 'Writers about religion and science']\n"
          ],
          "name": "stdout"
        }
      ]
    },
    {
      "cell_type": "markdown",
      "metadata": {
        "id": "rYgJZs8WCrXZ",
        "colab_type": "text"
      },
      "source": [
        "## github pageview-api\n",
        "https://github.com/Commonists/pageview-api"
      ]
    },
    {
      "cell_type": "code",
      "metadata": {
        "id": "KXJu9rzC0Sru",
        "colab_type": "code",
        "outputId": "bd1b379e-cdde-4d12-b56a-16479cfe1a59",
        "colab": {
          "base_uri": "https://localhost:8080/",
          "height": 343
        }
      },
      "source": [
        "pip install git+https://github.com/Commonists/pageview-api.git\n"
      ],
      "execution_count": 23,
      "outputs": [
        {
          "output_type": "stream",
          "text": [
            "Collecting git+https://github.com/Commonists/pageview-api.git\n",
            "  Cloning https://github.com/Commonists/pageview-api.git to /tmp/pip-req-build-zssaggoc\n",
            "  Running command git clone -q https://github.com/Commonists/pageview-api.git /tmp/pip-req-build-zssaggoc\n",
            "Requirement already satisfied: requests in /usr/local/lib/python3.6/dist-packages (from pageviewapi===Undefined) (2.23.0)\n",
            "Collecting attrdict\n",
            "  Downloading https://files.pythonhosted.org/packages/ef/97/28fe7e68bc7adfce67d4339756e85e9fcf3c6fd7f0c0781695352b70472c/attrdict-2.0.1-py2.py3-none-any.whl\n",
            "Requirement already satisfied: certifi>=2017.4.17 in /usr/local/lib/python3.6/dist-packages (from requests->pageviewapi===Undefined) (2020.4.5.1)\n",
            "Requirement already satisfied: urllib3!=1.25.0,!=1.25.1,<1.26,>=1.21.1 in /usr/local/lib/python3.6/dist-packages (from requests->pageviewapi===Undefined) (1.24.3)\n",
            "Requirement already satisfied: chardet<4,>=3.0.2 in /usr/local/lib/python3.6/dist-packages (from requests->pageviewapi===Undefined) (3.0.4)\n",
            "Requirement already satisfied: idna<3,>=2.5 in /usr/local/lib/python3.6/dist-packages (from requests->pageviewapi===Undefined) (2.9)\n",
            "Requirement already satisfied: six in /usr/local/lib/python3.6/dist-packages (from attrdict->pageviewapi===Undefined) (1.12.0)\n",
            "Building wheels for collected packages: pageviewapi\n",
            "  Building wheel for pageviewapi (setup.py) ... \u001b[?25l\u001b[?25hdone\n",
            "  Created wheel for pageviewapi: filename=pageviewapi-Undefined-cp36-none-any.whl size=5298 sha256=52273db3d261e575c65dfc15da3b656e158fefdd0960a243de027c3340e607a8\n",
            "  Stored in directory: /tmp/pip-ephem-wheel-cache-5w0qceaq/wheels/72/11/91/779b84efbca7fdf9f0582e678083e54cf77ec3b299ba77d14c\n",
            "Successfully built pageviewapi\n",
            "Installing collected packages: attrdict, pageviewapi\n",
            "Successfully installed attrdict-2.0.1 pageviewapi-Undefined\n"
          ],
          "name": "stdout"
        }
      ]
    },
    {
      "cell_type": "code",
      "metadata": {
        "id": "DnOSeUg-CNtO",
        "colab_type": "code",
        "colab": {}
      },
      "source": [
        "import pageviewapi"
      ],
      "execution_count": 0,
      "outputs": []
    },
    {
      "cell_type": "code",
      "metadata": {
        "id": "OFt8Lah_CS5t",
        "colab_type": "code",
        "colab": {}
      },
      "source": [
        "import pageviewapi.period"
      ],
      "execution_count": 0,
      "outputs": []
    },
    {
      "cell_type": "code",
      "metadata": {
        "id": "5Yj11c4ICiuT",
        "colab_type": "code",
        "outputId": "a8a3f6b5-79db-46c5-dd73-04f3810395ee",
        "colab": {
          "base_uri": "https://localhost:8080/",
          "height": 34
        }
      },
      "source": [
        "pageviewapi.period.sum_last('en.wikipedia', 'Bernhard Riemann', last=30,\n",
        "                            access='all-access', agent='all-agents')"
      ],
      "execution_count": 26,
      "outputs": [
        {
          "output_type": "execute_result",
          "data": {
            "text/plain": [
              "12761"
            ]
          },
          "metadata": {
            "tags": []
          },
          "execution_count": 26
        }
      ]
    },
    {
      "cell_type": "code",
      "metadata": {
        "id": "xwF-_8siIva5",
        "colab_type": "code",
        "colab": {}
      },
      "source": [
        ""
      ],
      "execution_count": 0,
      "outputs": []
    },
    {
      "cell_type": "code",
      "metadata": {
        "colab_type": "code",
        "outputId": "9d54b825-a830-43cd-9b08-b31fa22bce6e",
        "id": "DIc_f0GUIvkn",
        "colab": {
          "base_uri": "https://localhost:8080/",
          "height": 34
        }
      },
      "source": [
        "pageviewapi.period.sum_last('fr.wikipedia','Taylor Swift', last=30,\n",
        "                            access='all-access', agent='all-agents')"
      ],
      "execution_count": 27,
      "outputs": [
        {
          "output_type": "execute_result",
          "data": {
            "text/plain": [
              "28258"
            ]
          },
          "metadata": {
            "tags": []
          },
          "execution_count": 27
        }
      ]
    },
    {
      "cell_type": "code",
      "metadata": {
        "id": "DEVyVXzMCllk",
        "colab_type": "code",
        "outputId": "7c2cbd31-c559-4bda-98b5-7168bf82c534",
        "colab": {
          "base_uri": "https://localhost:8080/",
          "height": 765
        }
      },
      "source": [
        "if __name__ == '__main__':\n",
        "    print('Getting the list of names....')\n",
        "    names = get_names()\n",
        "    print(len(names))\n",
        "    print('... done.\\n')\n",
        "\n",
        "    results = []\n",
        "\n",
        "    print('Getting stats for each name....')\n",
        "\n",
        "    for name in names:\n",
        "        try:\n",
        "\n",
        "\n",
        "            hits = pageviewapi.period.sum_last('en.wikipedia', name, last=60,\n",
        "                            access='all-access', agent='all-agents')\n",
        "            if hits is None:\n",
        "                hits = -1\n",
        "            results.append((hits, name))\n",
        "        except:\n",
        "            results.append((-1, name))\n",
        "            log_error('error encountered while processing '\n",
        "                      '{}, skipping'.format(name))\n",
        "\n",
        "    print('... done.\\n')\n",
        "\n",
        "    results.sort()\n",
        "    results.reverse()\n",
        "\n",
        "    if len(results) > 5:\n",
        "        top_marks = results[:5]\n",
        "    else:\n",
        "        top_marks = results\n",
        "\n",
        "    print('\\nThe most popular mathematicians are:\\n')\n",
        "    for (mark, mathematician) in top_marks:\n",
        "        print('{} with {} pageviews'.format(mathematician, mark))\n",
        "\n",
        "    no_results = len([res for res in results if res[0] == -1])\n",
        "    print('\\nBut we did not find results for '\n",
        "          '{} mathematicians on the list'.format(no_results))"
      ],
      "execution_count": 28,
      "outputs": [
        {
          "output_type": "stream",
          "text": [
            "Getting the list of names....\n",
            "100\n",
            "... done.\n",
            "\n",
            "Getting stats for each name....\n",
            "error encountered while processing F. L. Gottlob Frege, skipping\n",
            "error encountered while processing F. Gotthold Eisenstein, skipping\n",
            "error encountered while processing Diophantus  of Alexandria, skipping\n",
            "error encountered while processing F.E.J. Émile Borel, skipping\n",
            "error encountered while processing Alhazen ibn al-Haytham, skipping\n",
            "error encountered while processing Ernst E. Kummer, skipping\n",
            "error encountered while processing Euclid  of Alexandria, skipping\n",
            "error encountered while processing Adrien M. Legendre, skipping\n",
            "error encountered while processing Gottfried W. Leibniz, skipping\n",
            "error encountered while processing Panini  of Shalatula, skipping\n",
            "error encountered while processing Bháscara (II) Áchárya, skipping\n",
            "error encountered while processing Archytas  of Tarentum, skipping\n",
            "error encountered while processing James J. Sylvester, skipping\n",
            "error encountered while processing Omar al-Khayyám, skipping\n",
            "error encountered while processing Karl W. T. Weierstrass, skipping\n",
            "error encountered while processing Leonardo `Fibonacci', skipping\n",
            "error encountered while processing Hipparchus  of Nicaea, skipping\n",
            "error encountered while processing Muhammed al-Khowârizmi, skipping\n",
            "error encountered while processing Pythagoras  of Samos, skipping\n",
            "error encountered while processing Eudoxus  of Cnidus, skipping\n",
            "error encountered while processing Hermann K. H. Weyl, skipping\n",
            "error encountered while processing M. E. Camille Jordan, skipping\n",
            "error encountered while processing Peter G. L. Dirichlet, skipping\n",
            "error encountered while processing Hermann G. Grassmann, skipping\n",
            "error encountered while processing Apollonius  of Perga, skipping\n",
            "error encountered while processing William R. Hamilton, skipping\n",
            "error encountered while processing Thales  of Miletus, skipping\n",
            "... done.\n",
            "\n",
            "\n",
            "The most popular mathematicians are:\n",
            "\n",
            "Albert Einstein with 1222398 pageviews\n",
            "Isaac Newton with 507906 pageviews\n",
            "Aristotle with 342921 pageviews\n",
            "Srinivasa Ramanujan with 320293 pageviews\n",
            "Galileo Galilei with 313525 pageviews\n",
            "\n",
            "But we did not find results for 27 mathematicians on the list\n"
          ],
          "name": "stdout"
        }
      ]
    },
    {
      "cell_type": "markdown",
      "metadata": {
        "id": "_o_3jTRaFsCA",
        "colab_type": "text"
      },
      "source": [
        "\n",
        "\n",
        "The most popular mathematicians are:\n",
        "\n",
        "1.  Albert Einstein with 1222398 pageviews\n",
        "2.  Isaac Newton with 507906 pageviews\n",
        "3.  Aristotle with 342921 pageviews\n",
        "4.  Srinivasa Ramanujan with 320293 pageviews\n",
        "5.  Galileo Galilei with 313525 pageviews\n",
        "\n",
        "But we did not find results for 27 mathematicians on the list"
      ]
    },
    {
      "cell_type": "code",
      "metadata": {
        "id": "6KDfYJZCG_g2",
        "colab_type": "code",
        "outputId": "10a98156-987b-47c9-d65d-d342e571de75",
        "colab": {
          "base_uri": "https://localhost:8080/",
          "height": 54
        }
      },
      "source": [
        "pageviewapi.per_article('en.wikipedia', 'Yu_Shuxin', '20200601', '20200607',\n",
        "                        access='all-access', agent='all-agents', granularity='daily')"
      ],
      "execution_count": 29,
      "outputs": [
        {
          "output_type": "execute_result",
          "data": {
            "text/plain": [
              "AttrDict({'items': [{'project': 'en.wikipedia', 'article': 'Yu_Shuxin', 'granularity': 'daily', 'timestamp': '2020060100', 'access': 'all-access', 'agent': 'all-agents', 'views': 1541}, {'project': 'en.wikipedia', 'article': 'Yu_Shuxin', 'granularity': 'daily', 'timestamp': '2020060200', 'access': 'all-access', 'agent': 'all-agents', 'views': 1202}, {'project': 'en.wikipedia', 'article': 'Yu_Shuxin', 'granularity': 'daily', 'timestamp': '2020060300', 'access': 'all-access', 'agent': 'all-agents', 'views': 1110}, {'project': 'en.wikipedia', 'article': 'Yu_Shuxin', 'granularity': 'daily', 'timestamp': '2020060400', 'access': 'all-access', 'agent': 'all-agents', 'views': 1028}, {'project': 'en.wikipedia', 'article': 'Yu_Shuxin', 'granularity': 'daily', 'timestamp': '2020060500', 'access': 'all-access', 'agent': 'all-agents', 'views': 819}, {'project': 'en.wikipedia', 'article': 'Yu_Shuxin', 'granularity': 'daily', 'timestamp': '2020060600', 'access': 'all-access', 'agent': 'all-agents', 'views': 1016}, {'project': 'en.wikipedia', 'article': 'Yu_Shuxin', 'granularity': 'daily', 'timestamp': '2020060700', 'access': 'all-access', 'agent': 'all-agents', 'views': 866}]})"
            ]
          },
          "metadata": {
            "tags": []
          },
          "execution_count": 29
        }
      ]
    },
    {
      "cell_type": "code",
      "metadata": {
        "id": "1LYpHmDdIBsS",
        "colab_type": "code",
        "outputId": "c1214d1b-25b0-4d3d-9822-aab28019ff07",
        "colab": {
          "base_uri": "https://localhost:8080/",
          "height": 34
        }
      },
      "source": [
        "pageviewapi.period.sum_last('en.wikipedia', 'Yu Shuxin', last=60,\n",
        "                            access='all-access', agent='all-agents')"
      ],
      "execution_count": 30,
      "outputs": [
        {
          "output_type": "execute_result",
          "data": {
            "text/plain": [
              "80077"
            ]
          },
          "metadata": {
            "tags": []
          },
          "execution_count": 30
        }
      ]
    },
    {
      "cell_type": "code",
      "metadata": {
        "id": "P3twv-CXMUj3",
        "colab_type": "code",
        "outputId": "847dec6a-34f5-4afd-df43-d0cbb8fcafee",
        "colab": {
          "base_uri": "https://localhost:8080/",
          "height": 34
        }
      },
      "source": [
        "pageviewapi.period.sum_last('en.wikipedia', 'Liu Yuxin', last=60,\n",
        "                            access='all-access', agent='all-agents')"
      ],
      "execution_count": 31,
      "outputs": [
        {
          "output_type": "execute_result",
          "data": {
            "text/plain": [
              "13165"
            ]
          },
          "metadata": {
            "tags": []
          },
          "execution_count": 31
        }
      ]
    },
    {
      "cell_type": "code",
      "metadata": {
        "id": "6ap6Ho-OMecw",
        "colab_type": "code",
        "outputId": "867b7d89-a1d0-4840-e29e-7ba7605559cb",
        "colab": {
          "base_uri": "https://localhost:8080/",
          "height": 34
        }
      },
      "source": [
        "pageviewapi.period.sum_last('en.wikipedia', 'Yu Yan', last=60,\n",
        "                            access='all-access', agent='all-agents')"
      ],
      "execution_count": 32,
      "outputs": [
        {
          "output_type": "execute_result",
          "data": {
            "text/plain": [
              "95"
            ]
          },
          "metadata": {
            "tags": []
          },
          "execution_count": 32
        }
      ]
    },
    {
      "cell_type": "code",
      "metadata": {
        "id": "xTPLYeVzICa7",
        "colab_type": "code",
        "outputId": "21534249-535b-4988-ef49-4217650c3e4e",
        "colab": {
          "base_uri": "https://localhost:8080/",
          "height": 34
        }
      },
      "source": [
        "pageviewapi.period.avg_last('fr.wikipedia', 'Paris', last=30)"
      ],
      "execution_count": 33,
      "outputs": [
        {
          "output_type": "execute_result",
          "data": {
            "text/plain": [
              "4138.433333333333"
            ]
          },
          "metadata": {
            "tags": []
          },
          "execution_count": 33
        }
      ]
    },
    {
      "cell_type": "code",
      "metadata": {
        "id": "0TZAbFjLIMWV",
        "colab_type": "code",
        "outputId": "8ce5a872-ac9b-4b93-9e0d-6bcb74917fc6",
        "colab": {
          "base_uri": "https://localhost:8080/",
          "height": 54
        }
      },
      "source": [
        "pageviewapi.legacy_pagecounts('fr.wikipedia', '2010010100', '2011010100', granularity='monthly')\n"
      ],
      "execution_count": 34,
      "outputs": [
        {
          "output_type": "execute_result",
          "data": {
            "text/plain": [
              "AttrDict({'items': [{'project': 'fr.wikipedia', 'access-site': 'all-sites', 'granularity': 'monthly', 'timestamp': '2010010100', 'count': 516194646}, {'project': 'fr.wikipedia', 'access-site': 'all-sites', 'granularity': 'monthly', 'timestamp': '2010020100', 'count': 487973789}, {'project': 'fr.wikipedia', 'access-site': 'all-sites', 'granularity': 'monthly', 'timestamp': '2010030100', 'count': 509995947}, {'project': 'fr.wikipedia', 'access-site': 'all-sites', 'granularity': 'monthly', 'timestamp': '2010040100', 'count': 443366887}, {'project': 'fr.wikipedia', 'access-site': 'all-sites', 'granularity': 'monthly', 'timestamp': '2010050100', 'count': 452233260}, {'project': 'fr.wikipedia', 'access-site': 'all-sites', 'granularity': 'monthly', 'timestamp': '2010060100', 'count': 333644715}, {'project': 'fr.wikipedia', 'access-site': 'all-sites', 'granularity': 'monthly', 'timestamp': '2010070100', 'count': 333580000}, {'project': 'fr.wikipedia', 'access-site': 'all-sites', 'granularity': 'monthly', 'timestamp': '2010080100', 'count': 510752092}, {'project': 'fr.wikipedia', 'access-site': 'all-sites', 'granularity': 'monthly', 'timestamp': '2010090100', 'count': 604347940}, {'project': 'fr.wikipedia', 'access-site': 'all-sites', 'granularity': 'monthly', 'timestamp': '2010100100', 'count': 962929480}, {'project': 'fr.wikipedia', 'access-site': 'all-sites', 'granularity': 'monthly', 'timestamp': '2010110100', 'count': 610664424}, {'project': 'fr.wikipedia', 'access-site': 'all-sites', 'granularity': 'monthly', 'timestamp': '2010120100', 'count': 614922404}]})"
            ]
          },
          "metadata": {
            "tags": []
          },
          "execution_count": 34
        }
      ]
    },
    {
      "cell_type": "markdown",
      "metadata": {
        "id": "QU3SSagkGlfh",
        "colab_type": "text"
      },
      "source": [
        "##  Tutorial: Python Web Scraping Using BeautifulSoup"
      ]
    },
    {
      "cell_type": "markdown",
      "metadata": {
        "id": "usv1BSfIWGEm",
        "colab_type": "text"
      },
      "source": [
        ""
      ]
    },
    {
      "cell_type": "code",
      "metadata": {
        "id": "G6-Tts1lXC_Y",
        "colab_type": "code",
        "colab": {}
      },
      "source": [
        "import requests\n",
        "from bs4 import BeautifulSoup\n",
        "\n"
      ],
      "execution_count": 0,
      "outputs": []
    },
    {
      "cell_type": "code",
      "metadata": {
        "id": "0eR0FTWmDWKH",
        "colab_type": "code",
        "outputId": "89b2ba03-10de-4390-89bf-af64f55cd20a",
        "colab": {
          "base_uri": "https://localhost:8080/",
          "height": 309
        }
      },
      "source": [
        "page = requests.get(\"http://forecast.weather.gov/MapClick.php?lat=37.7772&lon=-122.4168\")\n",
        "soup = BeautifulSoup(page.content, 'html.parser')\n",
        "seven_day = soup.find(id=\"seven-day-forecast\")\n",
        "forecast_items = seven_day.find_all(class_=\"tombstone-container\")\n",
        "tonight = forecast_items[0]\n",
        "print(tonight.prettify())"
      ],
      "execution_count": 36,
      "outputs": [
        {
          "output_type": "stream",
          "text": [
            "<div class=\"tombstone-container\">\n",
            " <p class=\"period-name\">\n",
            "  Tonight\n",
            "  <br/>\n",
            "  <br/>\n",
            " </p>\n",
            " <p>\n",
            "  <img alt=\"Tonight: Mostly clear, with a low around 57. West wind around 14 mph, with gusts as high as 26 mph. \" class=\"forecast-icon\" src=\"newimages/medium/nfew.png\" title=\"Tonight: Mostly clear, with a low around 57. West wind around 14 mph, with gusts as high as 26 mph. \"/>\n",
            " </p>\n",
            " <p class=\"short-desc\">\n",
            "  Mostly Clear\n",
            " </p>\n",
            " <p class=\"temp temp-low\">\n",
            "  Low: 57 °F\n",
            " </p>\n",
            "</div>\n"
          ],
          "name": "stdout"
        }
      ]
    },
    {
      "cell_type": "code",
      "metadata": {
        "id": "V4NrroaSWVx1",
        "colab_type": "code",
        "outputId": "1a60c1f0-4507-44e2-f851-e810619e2ff4",
        "colab": {
          "base_uri": "https://localhost:8080/",
          "height": 68
        }
      },
      "source": [
        "period = tonight.find(class_=\"period-name\").get_text()\n",
        "short_desc = tonight.find(class_=\"short-desc\").get_text()\n",
        "temp = tonight.find(class_=\"temp\").get_text()\n",
        "print(period)\n",
        "print(short_desc)\n",
        "print(temp)"
      ],
      "execution_count": 37,
      "outputs": [
        {
          "output_type": "stream",
          "text": [
            "Tonight\n",
            "Mostly Clear\n",
            "Low: 57 °F\n"
          ],
          "name": "stdout"
        }
      ]
    },
    {
      "cell_type": "code",
      "metadata": {
        "id": "Q8rFmdvOZPA-",
        "colab_type": "code",
        "outputId": "cf6d87ad-a872-4220-a989-04ca5b20e34f",
        "colab": {
          "base_uri": "https://localhost:8080/",
          "height": 54
        }
      },
      "source": [
        "img = tonight.find(\"img\")\n",
        "desc = img['title']\n",
        "print(desc)"
      ],
      "execution_count": 38,
      "outputs": [
        {
          "output_type": "stream",
          "text": [
            "Tonight: Mostly clear, with a low around 57. West wind around 14 mph, with gusts as high as 26 mph. \n"
          ],
          "name": "stdout"
        }
      ]
    },
    {
      "cell_type": "code",
      "metadata": {
        "id": "zyXo_A8uZRmA",
        "colab_type": "code",
        "outputId": "6ac6ac12-b3ce-4d2c-ef1f-6884dc9c79d8",
        "colab": {
          "base_uri": "https://localhost:8080/",
          "height": 170
        }
      },
      "source": [
        "period_tags = seven_day.select(\".tombstone-container .period-name\")\n",
        "periods = [pt.get_text() for pt in period_tags]\n",
        "periods"
      ],
      "execution_count": 39,
      "outputs": [
        {
          "output_type": "execute_result",
          "data": {
            "text/plain": [
              "['Tonight',\n",
              " 'Tuesday',\n",
              " 'TuesdayNight',\n",
              " 'Wednesday',\n",
              " 'WednesdayNight',\n",
              " 'Thursday',\n",
              " 'ThursdayNight',\n",
              " 'Friday',\n",
              " 'FridayNight']"
            ]
          },
          "metadata": {
            "tags": []
          },
          "execution_count": 39
        }
      ]
    },
    {
      "cell_type": "code",
      "metadata": {
        "id": "7hLABvcDdAzS",
        "colab_type": "code",
        "colab": {}
      },
      "source": [
        "short_descs = [sd.get_text() for sd in seven_day.select(\".tombstone-container .short-desc\")]\n",
        "temps = [t.get_text() for t in seven_day.select(\".tombstone-container .temp\")]\n",
        "descs = [d[\"title\"] for d in seven_day.select(\".tombstone-container img\")]\n"
      ],
      "execution_count": 0,
      "outputs": []
    },
    {
      "cell_type": "code",
      "metadata": {
        "id": "k-rUiqm7dGhq",
        "colab_type": "code",
        "outputId": "01d142e2-e727-418d-f74b-3f5415bf257c",
        "colab": {
          "base_uri": "https://localhost:8080/",
          "height": 88
        }
      },
      "source": [
        "print(short_descs)\n",
        "print(temps)\n",
        "print(descs)"
      ],
      "execution_count": 41,
      "outputs": [
        {
          "output_type": "stream",
          "text": [
            "['Mostly Clear', 'Sunny', 'Clear', 'Sunny', 'Clear', 'Sunny', 'Mostly Clear', 'Sunny', 'Mostly Clear']\n",
            "['Low: 57 °F', 'High: 70 °F', 'Low: 57 °F', 'High: 78 °F', 'Low: 57 °F', 'High: 80 °F', 'Low: 57 °F', 'High: 76 °F', 'Low: 57 °F']\n",
            "['Tonight: Mostly clear, with a low around 57. West wind around 14 mph, with gusts as high as 26 mph. ', 'Tuesday: Sunny, with a high near 70. West wind 10 to 17 mph, with gusts as high as 24 mph. ', 'Tuesday Night: Clear, with a low around 57. West wind 10 to 15 mph becoming light. Winds could gust as high as 21 mph. ', 'Wednesday: Sunny, with a high near 78. West wind 7 to 13 mph, with gusts as high as 23 mph. ', 'Wednesday Night: Clear, with a low around 57. West wind 9 to 14 mph becoming light west southwest  after midnight. ', 'Thursday: Sunny, with a high near 80.', 'Thursday Night: Mostly clear, with a low around 57.', 'Friday: Sunny, with a high near 76.', 'Friday Night: Mostly clear, with a low around 57.']\n"
          ],
          "name": "stdout"
        }
      ]
    },
    {
      "cell_type": "code",
      "metadata": {
        "id": "EhUSXfBIdUfw",
        "colab_type": "code",
        "outputId": "8e17c003-d8fa-4737-e3a7-20484772f861",
        "colab": {
          "base_uri": "https://localhost:8080/",
          "height": 328
        }
      },
      "source": [
        " import pandas as pd\n",
        "weather = pd.DataFrame({\n",
        "    \"period\": periods,\n",
        "    \"short_desc\": short_descs,\n",
        "    \"temp\": temps,\n",
        "    \"desc\":descs\n",
        "})\n",
        "weather"
      ],
      "execution_count": 42,
      "outputs": [
        {
          "output_type": "execute_result",
          "data": {
            "text/html": [
              "<div>\n",
              "<style scoped>\n",
              "    .dataframe tbody tr th:only-of-type {\n",
              "        vertical-align: middle;\n",
              "    }\n",
              "\n",
              "    .dataframe tbody tr th {\n",
              "        vertical-align: top;\n",
              "    }\n",
              "\n",
              "    .dataframe thead th {\n",
              "        text-align: right;\n",
              "    }\n",
              "</style>\n",
              "<table border=\"1\" class=\"dataframe\">\n",
              "  <thead>\n",
              "    <tr style=\"text-align: right;\">\n",
              "      <th></th>\n",
              "      <th>period</th>\n",
              "      <th>short_desc</th>\n",
              "      <th>temp</th>\n",
              "      <th>desc</th>\n",
              "    </tr>\n",
              "  </thead>\n",
              "  <tbody>\n",
              "    <tr>\n",
              "      <th>0</th>\n",
              "      <td>Tonight</td>\n",
              "      <td>Mostly Clear</td>\n",
              "      <td>Low: 57 °F</td>\n",
              "      <td>Tonight: Mostly clear, with a low around 57. W...</td>\n",
              "    </tr>\n",
              "    <tr>\n",
              "      <th>1</th>\n",
              "      <td>Tuesday</td>\n",
              "      <td>Sunny</td>\n",
              "      <td>High: 70 °F</td>\n",
              "      <td>Tuesday: Sunny, with a high near 70. West wind...</td>\n",
              "    </tr>\n",
              "    <tr>\n",
              "      <th>2</th>\n",
              "      <td>TuesdayNight</td>\n",
              "      <td>Clear</td>\n",
              "      <td>Low: 57 °F</td>\n",
              "      <td>Tuesday Night: Clear, with a low around 57. We...</td>\n",
              "    </tr>\n",
              "    <tr>\n",
              "      <th>3</th>\n",
              "      <td>Wednesday</td>\n",
              "      <td>Sunny</td>\n",
              "      <td>High: 78 °F</td>\n",
              "      <td>Wednesday: Sunny, with a high near 78. West wi...</td>\n",
              "    </tr>\n",
              "    <tr>\n",
              "      <th>4</th>\n",
              "      <td>WednesdayNight</td>\n",
              "      <td>Clear</td>\n",
              "      <td>Low: 57 °F</td>\n",
              "      <td>Wednesday Night: Clear, with a low around 57. ...</td>\n",
              "    </tr>\n",
              "    <tr>\n",
              "      <th>5</th>\n",
              "      <td>Thursday</td>\n",
              "      <td>Sunny</td>\n",
              "      <td>High: 80 °F</td>\n",
              "      <td>Thursday: Sunny, with a high near 80.</td>\n",
              "    </tr>\n",
              "    <tr>\n",
              "      <th>6</th>\n",
              "      <td>ThursdayNight</td>\n",
              "      <td>Mostly Clear</td>\n",
              "      <td>Low: 57 °F</td>\n",
              "      <td>Thursday Night: Mostly clear, with a low aroun...</td>\n",
              "    </tr>\n",
              "    <tr>\n",
              "      <th>7</th>\n",
              "      <td>Friday</td>\n",
              "      <td>Sunny</td>\n",
              "      <td>High: 76 °F</td>\n",
              "      <td>Friday: Sunny, with a high near 76.</td>\n",
              "    </tr>\n",
              "    <tr>\n",
              "      <th>8</th>\n",
              "      <td>FridayNight</td>\n",
              "      <td>Mostly Clear</td>\n",
              "      <td>Low: 57 °F</td>\n",
              "      <td>Friday Night: Mostly clear, with a low around 57.</td>\n",
              "    </tr>\n",
              "  </tbody>\n",
              "</table>\n",
              "</div>"
            ],
            "text/plain": [
              "           period  ...                                               desc\n",
              "0         Tonight  ...  Tonight: Mostly clear, with a low around 57. W...\n",
              "1         Tuesday  ...  Tuesday: Sunny, with a high near 70. West wind...\n",
              "2    TuesdayNight  ...  Tuesday Night: Clear, with a low around 57. We...\n",
              "3       Wednesday  ...  Wednesday: Sunny, with a high near 78. West wi...\n",
              "4  WednesdayNight  ...  Wednesday Night: Clear, with a low around 57. ...\n",
              "5        Thursday  ...              Thursday: Sunny, with a high near 80.\n",
              "6   ThursdayNight  ...  Thursday Night: Mostly clear, with a low aroun...\n",
              "7          Friday  ...                Friday: Sunny, with a high near 76.\n",
              "8     FridayNight  ...  Friday Night: Mostly clear, with a low around 57.\n",
              "\n",
              "[9 rows x 4 columns]"
            ]
          },
          "metadata": {
            "tags": []
          },
          "execution_count": 42
        }
      ]
    },
    {
      "cell_type": "code",
      "metadata": {
        "id": "krF-WBr4dfyO",
        "colab_type": "code",
        "outputId": "f5aa1d21-ee43-4a3a-adae-6dfbd8933703",
        "colab": {
          "base_uri": "https://localhost:8080/",
          "height": 187
        }
      },
      "source": [
        "temp_nums = weather[\"temp\"].str.extract(\"(?P<temp_num>\\d+)\", expand=False)\n",
        "weather[\"temp_num\"] = temp_nums.astype('int')\n",
        "temp_nums"
      ],
      "execution_count": 43,
      "outputs": [
        {
          "output_type": "execute_result",
          "data": {
            "text/plain": [
              "0    57\n",
              "1    70\n",
              "2    57\n",
              "3    78\n",
              "4    57\n",
              "5    80\n",
              "6    57\n",
              "7    76\n",
              "8    57\n",
              "Name: temp_num, dtype: object"
            ]
          },
          "metadata": {
            "tags": []
          },
          "execution_count": 43
        }
      ]
    },
    {
      "cell_type": "code",
      "metadata": {
        "id": "ZFA7u6IEdkkS",
        "colab_type": "code",
        "outputId": "94ebd60c-fb24-4d5e-aafe-563d6ebd02e9",
        "colab": {
          "base_uri": "https://localhost:8080/",
          "height": 34
        }
      },
      "source": [
        "weather[\"temp_num\"].mean()\n"
      ],
      "execution_count": 44,
      "outputs": [
        {
          "output_type": "execute_result",
          "data": {
            "text/plain": [
              "65.44444444444444"
            ]
          },
          "metadata": {
            "tags": []
          },
          "execution_count": 44
        }
      ]
    },
    {
      "cell_type": "code",
      "metadata": {
        "id": "3Zm421DmdnHH",
        "colab_type": "code",
        "outputId": "8b8f28b4-5452-4596-8108-d1e2e7c46d1e",
        "colab": {
          "base_uri": "https://localhost:8080/",
          "height": 187
        }
      },
      "source": [
        "is_night = weather[\"temp\"].str.contains(\"Low\")\n",
        "weather[\"is_night\"] = is_night\n",
        "is_night"
      ],
      "execution_count": 45,
      "outputs": [
        {
          "output_type": "execute_result",
          "data": {
            "text/plain": [
              "0     True\n",
              "1    False\n",
              "2     True\n",
              "3    False\n",
              "4     True\n",
              "5    False\n",
              "6     True\n",
              "7    False\n",
              "8     True\n",
              "Name: temp, dtype: bool"
            ]
          },
          "metadata": {
            "tags": []
          },
          "execution_count": 45
        }
      ]
    },
    {
      "cell_type": "code",
      "metadata": {
        "id": "FYbf50iads4V",
        "colab_type": "code",
        "outputId": "b3ddafcd-aae2-429d-c5e3-aa8343342615",
        "colab": {
          "base_uri": "https://localhost:8080/",
          "height": 289
        }
      },
      "source": [
        "weather[is_night]\n"
      ],
      "execution_count": 46,
      "outputs": [
        {
          "output_type": "execute_result",
          "data": {
            "text/html": [
              "<div>\n",
              "<style scoped>\n",
              "    .dataframe tbody tr th:only-of-type {\n",
              "        vertical-align: middle;\n",
              "    }\n",
              "\n",
              "    .dataframe tbody tr th {\n",
              "        vertical-align: top;\n",
              "    }\n",
              "\n",
              "    .dataframe thead th {\n",
              "        text-align: right;\n",
              "    }\n",
              "</style>\n",
              "<table border=\"1\" class=\"dataframe\">\n",
              "  <thead>\n",
              "    <tr style=\"text-align: right;\">\n",
              "      <th></th>\n",
              "      <th>period</th>\n",
              "      <th>short_desc</th>\n",
              "      <th>temp</th>\n",
              "      <th>desc</th>\n",
              "      <th>temp_num</th>\n",
              "      <th>is_night</th>\n",
              "    </tr>\n",
              "  </thead>\n",
              "  <tbody>\n",
              "    <tr>\n",
              "      <th>0</th>\n",
              "      <td>Tonight</td>\n",
              "      <td>Mostly Clear</td>\n",
              "      <td>Low: 57 °F</td>\n",
              "      <td>Tonight: Mostly clear, with a low around 57. W...</td>\n",
              "      <td>57</td>\n",
              "      <td>True</td>\n",
              "    </tr>\n",
              "    <tr>\n",
              "      <th>2</th>\n",
              "      <td>TuesdayNight</td>\n",
              "      <td>Clear</td>\n",
              "      <td>Low: 57 °F</td>\n",
              "      <td>Tuesday Night: Clear, with a low around 57. We...</td>\n",
              "      <td>57</td>\n",
              "      <td>True</td>\n",
              "    </tr>\n",
              "    <tr>\n",
              "      <th>4</th>\n",
              "      <td>WednesdayNight</td>\n",
              "      <td>Clear</td>\n",
              "      <td>Low: 57 °F</td>\n",
              "      <td>Wednesday Night: Clear, with a low around 57. ...</td>\n",
              "      <td>57</td>\n",
              "      <td>True</td>\n",
              "    </tr>\n",
              "    <tr>\n",
              "      <th>6</th>\n",
              "      <td>ThursdayNight</td>\n",
              "      <td>Mostly Clear</td>\n",
              "      <td>Low: 57 °F</td>\n",
              "      <td>Thursday Night: Mostly clear, with a low aroun...</td>\n",
              "      <td>57</td>\n",
              "      <td>True</td>\n",
              "    </tr>\n",
              "    <tr>\n",
              "      <th>8</th>\n",
              "      <td>FridayNight</td>\n",
              "      <td>Mostly Clear</td>\n",
              "      <td>Low: 57 °F</td>\n",
              "      <td>Friday Night: Mostly clear, with a low around 57.</td>\n",
              "      <td>57</td>\n",
              "      <td>True</td>\n",
              "    </tr>\n",
              "  </tbody>\n",
              "</table>\n",
              "</div>"
            ],
            "text/plain": [
              "           period    short_desc  ... temp_num is_night\n",
              "0         Tonight  Mostly Clear  ...       57     True\n",
              "2    TuesdayNight         Clear  ...       57     True\n",
              "4  WednesdayNight         Clear  ...       57     True\n",
              "6   ThursdayNight  Mostly Clear  ...       57     True\n",
              "8     FridayNight  Mostly Clear  ...       57     True\n",
              "\n",
              "[5 rows x 6 columns]"
            ]
          },
          "metadata": {
            "tags": []
          },
          "execution_count": 46
        }
      ]
    },
    {
      "cell_type": "markdown",
      "metadata": {
        "id": "W3_HViLTyINy",
        "colab_type": "text"
      },
      "source": [
        "## Scrapy\n",
        "\n"
      ]
    },
    {
      "cell_type": "markdown",
      "metadata": {
        "id": "qvtsgr47yG4z",
        "colab_type": "text"
      },
      "source": [
        "Here we try to use the scrapy, which has 37.4k stars at github"
      ]
    },
    {
      "cell_type": "code",
      "metadata": {
        "id": "2SIuU16E0eiG",
        "colab_type": "code",
        "colab": {
          "base_uri": "https://localhost:8080/",
          "height": 1000
        },
        "outputId": "9b0eee5e-3f26-4588-d6cf-a2b5b0d3a8c1"
      },
      "source": [
        "pip install scrapy"
      ],
      "execution_count": 48,
      "outputs": [
        {
          "output_type": "stream",
          "text": [
            "Collecting scrapy\n",
            "\u001b[?25l  Downloading https://files.pythonhosted.org/packages/9a/d3/5af102af577f57f706fcb302ea47d40e09355778488de904b3594d4e48d2/Scrapy-2.1.0-py2.py3-none-any.whl (239kB)\n",
            "\r\u001b[K     |█▍                              | 10kB 17.5MB/s eta 0:00:01\r\u001b[K     |██▊                             | 20kB 2.2MB/s eta 0:00:01\r\u001b[K     |████                            | 30kB 2.7MB/s eta 0:00:01\r\u001b[K     |█████▌                          | 40kB 2.6MB/s eta 0:00:01\r\u001b[K     |██████▉                         | 51kB 2.5MB/s eta 0:00:01\r\u001b[K     |████████▏                       | 61kB 2.7MB/s eta 0:00:01\r\u001b[K     |█████████▋                      | 71kB 3.0MB/s eta 0:00:01\r\u001b[K     |███████████                     | 81kB 3.2MB/s eta 0:00:01\r\u001b[K     |████████████▎                   | 92kB 3.4MB/s eta 0:00:01\r\u001b[K     |█████████████▋                  | 102kB 3.4MB/s eta 0:00:01\r\u001b[K     |███████████████                 | 112kB 3.4MB/s eta 0:00:01\r\u001b[K     |████████████████▍               | 122kB 3.4MB/s eta 0:00:01\r\u001b[K     |█████████████████▊              | 133kB 3.4MB/s eta 0:00:01\r\u001b[K     |███████████████████▏            | 143kB 3.4MB/s eta 0:00:01\r\u001b[K     |████████████████████▌           | 153kB 3.4MB/s eta 0:00:01\r\u001b[K     |█████████████████████▉          | 163kB 3.4MB/s eta 0:00:01\r\u001b[K     |███████████████████████▏        | 174kB 3.4MB/s eta 0:00:01\r\u001b[K     |████████████████████████▋       | 184kB 3.4MB/s eta 0:00:01\r\u001b[K     |██████████████████████████      | 194kB 3.4MB/s eta 0:00:01\r\u001b[K     |███████████████████████████▎    | 204kB 3.4MB/s eta 0:00:01\r\u001b[K     |████████████████████████████▊   | 215kB 3.4MB/s eta 0:00:01\r\u001b[K     |██████████████████████████████  | 225kB 3.4MB/s eta 0:00:01\r\u001b[K     |███████████████████████████████▍| 235kB 3.4MB/s eta 0:00:01\r\u001b[K     |████████████████████████████████| 245kB 3.4MB/s \n",
            "\u001b[?25hCollecting w3lib>=1.17.0\n",
            "  Downloading https://files.pythonhosted.org/packages/a3/59/b6b14521090e7f42669cafdb84b0ab89301a42f1f1a82fcf5856661ea3a7/w3lib-1.22.0-py2.py3-none-any.whl\n",
            "Collecting PyDispatcher>=2.0.5\n",
            "  Downloading https://files.pythonhosted.org/packages/cd/37/39aca520918ce1935bea9c356bcbb7ed7e52ad4e31bff9b943dfc8e7115b/PyDispatcher-2.0.5.tar.gz\n",
            "Requirement already satisfied: lxml>=3.5.0 in /usr/local/lib/python3.6/dist-packages (from scrapy) (4.2.6)\n",
            "Collecting parsel>=1.5.0\n",
            "  Downloading https://files.pythonhosted.org/packages/23/1e/9b39d64cbab79d4362cdd7be7f5e9623d45c4a53b3f7522cd8210df52d8e/parsel-1.6.0-py2.py3-none-any.whl\n",
            "Collecting queuelib>=1.4.2\n",
            "  Downloading https://files.pythonhosted.org/packages/4c/85/ae64e9145f39dd6d14f8af3fa809a270ef3729f3b90b3c0cf5aa242ab0d4/queuelib-1.5.0-py2.py3-none-any.whl\n",
            "Collecting service-identity>=16.0.0\n",
            "  Downloading https://files.pythonhosted.org/packages/e9/7c/2195b890023e098f9618d43ebc337d83c8b38d414326685339eb024db2f6/service_identity-18.1.0-py2.py3-none-any.whl\n",
            "Collecting zope.interface>=4.1.3\n",
            "\u001b[?25l  Downloading https://files.pythonhosted.org/packages/57/33/565274c28a11af60b7cfc0519d46bde4125fcd7d32ebc0a81b480d0e8da6/zope.interface-5.1.0-cp36-cp36m-manylinux2010_x86_64.whl (234kB)\n",
            "\u001b[K     |████████████████████████████████| 235kB 9.7MB/s \n",
            "\u001b[?25hCollecting protego>=0.1.15\n",
            "\u001b[?25l  Downloading https://files.pythonhosted.org/packages/db/6e/bf6d5e4d7cf233b785719aaec2c38f027b9c2ed980a0015ec1a1cced4893/Protego-0.1.16.tar.gz (3.2MB)\n",
            "\u001b[K     |████████████████████████████████| 3.2MB 10.9MB/s \n",
            "\u001b[?25hCollecting cssselect>=0.9.1\n",
            "  Downloading https://files.pythonhosted.org/packages/3b/d4/3b5c17f00cce85b9a1e6f91096e1cc8e8ede2e1be8e96b87ce1ed09e92c5/cssselect-1.1.0-py2.py3-none-any.whl\n",
            "Collecting pyOpenSSL>=16.2.0\n",
            "\u001b[?25l  Downloading https://files.pythonhosted.org/packages/9e/de/f8342b68fa9e981d348039954657bdf681b2ab93de27443be51865ffa310/pyOpenSSL-19.1.0-py2.py3-none-any.whl (53kB)\n",
            "\u001b[K     |████████████████████████████████| 61kB 7.2MB/s \n",
            "\u001b[?25hCollecting cryptography>=2.0\n",
            "\u001b[?25l  Downloading https://files.pythonhosted.org/packages/3c/04/686efee2dcdd25aecf357992e7d9362f443eb182ecd623f882bc9f7a6bba/cryptography-2.9.2-cp35-abi3-manylinux2010_x86_64.whl (2.7MB)\n",
            "\u001b[K     |████████████████████████████████| 2.7MB 35.5MB/s \n",
            "\u001b[?25hCollecting Twisted>=17.9.0\n",
            "\u001b[?25l  Downloading https://files.pythonhosted.org/packages/b7/04/1a664c9e5ec0224a1c1a154ddecaa4dc7b8967521bba225efcc41a03d5f3/Twisted-20.3.0-cp36-cp36m-manylinux1_x86_64.whl (3.1MB)\n",
            "\u001b[K     |████████████████████████████████| 3.1MB 39.8MB/s \n",
            "\u001b[?25hRequirement already satisfied: six>=1.4.1 in /usr/local/lib/python3.6/dist-packages (from w3lib>=1.17.0->scrapy) (1.12.0)\n",
            "Requirement already satisfied: pyasn1 in /usr/local/lib/python3.6/dist-packages (from service-identity>=16.0.0->scrapy) (0.4.8)\n",
            "Requirement already satisfied: attrs>=16.0.0 in /usr/local/lib/python3.6/dist-packages (from service-identity>=16.0.0->scrapy) (19.3.0)\n",
            "Requirement already satisfied: pyasn1-modules in /usr/local/lib/python3.6/dist-packages (from service-identity>=16.0.0->scrapy) (0.2.8)\n",
            "Requirement already satisfied: setuptools in /usr/local/lib/python3.6/dist-packages (from zope.interface>=4.1.3->scrapy) (47.1.1)\n",
            "Requirement already satisfied: cffi!=1.11.3,>=1.8 in /usr/local/lib/python3.6/dist-packages (from cryptography>=2.0->scrapy) (1.14.0)\n",
            "Collecting hyperlink>=17.1.1\n",
            "  Downloading https://files.pythonhosted.org/packages/7f/91/e916ca10a2de1cb7101a9b24da546fb90ee14629e23160086cf3361c4fb8/hyperlink-19.0.0-py2.py3-none-any.whl\n",
            "Collecting incremental>=16.10.1\n",
            "  Downloading https://files.pythonhosted.org/packages/f5/1d/c98a587dc06e107115cf4a58b49de20b19222c83d75335a192052af4c4b7/incremental-17.5.0-py2.py3-none-any.whl\n",
            "Collecting PyHamcrest!=1.10.0,>=1.9.0\n",
            "\u001b[?25l  Downloading https://files.pythonhosted.org/packages/40/16/e54cc65891f01cb62893540f44ffd3e8dab0a22443e1b438f1a9f5574bee/PyHamcrest-2.0.2-py3-none-any.whl (52kB)\n",
            "\u001b[K     |████████████████████████████████| 61kB 7.4MB/s \n",
            "\u001b[?25hCollecting Automat>=0.3.0\n",
            "  Downloading https://files.pythonhosted.org/packages/dd/83/5f6f3c1a562674d65efc320257bdc0873ec53147835aeef7762fe7585273/Automat-20.2.0-py2.py3-none-any.whl\n",
            "Collecting constantly>=15.1\n",
            "  Downloading https://files.pythonhosted.org/packages/b9/65/48c1909d0c0aeae6c10213340ce682db01b48ea900a7d9fce7a7910ff318/constantly-15.1.0-py2.py3-none-any.whl\n",
            "Requirement already satisfied: pycparser in /usr/local/lib/python3.6/dist-packages (from cffi!=1.11.3,>=1.8->cryptography>=2.0->scrapy) (2.20)\n",
            "Requirement already satisfied: idna>=2.5 in /usr/local/lib/python3.6/dist-packages (from hyperlink>=17.1.1->Twisted>=17.9.0->scrapy) (2.9)\n",
            "Building wheels for collected packages: PyDispatcher, protego\n",
            "  Building wheel for PyDispatcher (setup.py) ... \u001b[?25l\u001b[?25hdone\n",
            "  Created wheel for PyDispatcher: filename=PyDispatcher-2.0.5-cp36-none-any.whl size=11515 sha256=426b6f4c632023449335c57133ea50e541c3240261ee19ebcc59dda1fad3f90a\n",
            "  Stored in directory: /root/.cache/pip/wheels/88/99/96/cfef6665f9cb1522ee6757ae5955feedf2fe25f1737f91fa7f\n",
            "  Building wheel for protego (setup.py) ... \u001b[?25l\u001b[?25hdone\n",
            "  Created wheel for protego: filename=Protego-0.1.16-cp36-none-any.whl size=7765 sha256=d442fdd25d035252e2ee4fd4be923f5b57bd53a1d7f26a1e2bc2856d93211748\n",
            "  Stored in directory: /root/.cache/pip/wheels/51/01/d1/4a2286a976dccd025ba679acacfe37320540df0f2283ecab12\n",
            "Successfully built PyDispatcher protego\n",
            "Installing collected packages: w3lib, PyDispatcher, cssselect, parsel, queuelib, cryptography, service-identity, zope.interface, protego, pyOpenSSL, hyperlink, incremental, PyHamcrest, Automat, constantly, Twisted, scrapy\n",
            "Successfully installed Automat-20.2.0 PyDispatcher-2.0.5 PyHamcrest-2.0.2 Twisted-20.3.0 constantly-15.1.0 cryptography-2.9.2 cssselect-1.1.0 hyperlink-19.0.0 incremental-17.5.0 parsel-1.6.0 protego-0.1.16 pyOpenSSL-19.1.0 queuelib-1.5.0 scrapy-2.1.0 service-identity-18.1.0 w3lib-1.22.0 zope.interface-5.1.0\n"
          ],
          "name": "stdout"
        }
      ]
    },
    {
      "cell_type": "code",
      "metadata": {
        "id": "e3eyvvUA0qMG",
        "colab_type": "code",
        "colab": {}
      },
      "source": [
        "import re\n",
        "import csv\n",
        "import requests\n",
        "from bs4 import BeautifulSoup\n",
        "\n",
        "# Code to scrap the weather data\n",
        "from urllib.request import urlopen\n",
        "import pandas as pd"
      ],
      "execution_count": 0,
      "outputs": []
    },
    {
      "cell_type": "code",
      "metadata": {
        "id": "oId-2ujSDF0D",
        "colab_type": "code",
        "colab": {}
      },
      "source": [
        "url = 'https://www.timeanddate.com/weather/china/taiyuan/historic'\n",
        "html = urlopen(url)\n",
        "soup = BeautifulSoup(html, 'html.parser')\n",
        "table = soup.find('table', attrs={'id': 'wt-his'})\n",
        "\n",
        "tablehr = table.find('thead').find_all('tr')\n",
        "tablebr = table.find('tbody').find_all('tr')"
      ],
      "execution_count": 0,
      "outputs": []
    },
    {
      "cell_type": "code",
      "metadata": {
        "id": "8dYI5ghUDOiX",
        "colab_type": "code",
        "colab": {}
      },
      "source": [
        "data = []\n",
        "tableheaders = []\n",
        "\n",
        "wind_dir= []\n",
        "all_td = table.find_all('td')\n",
        "for row in all_td:\n",
        "    for cols in row.find_all('span'):\n",
        "        wind_dir.append(cols.get('title'))\n",
        "        \n",
        "df_wd = pd.DataFrame({'Wind':wind_dir})\n",
        "\n",
        "for col in tablehr[1].find_all('th'):\n",
        "    tableheaders.append(col.text.strip())\n",
        "    \n",
        "\n",
        "for row in tablebr:\n",
        "    tabledata = []\n",
        "    for cols in row.find_all(['td', 'th']):\n",
        "        tabledata.append(cols.text.strip())\n",
        "    data.append(tabledata)"
      ],
      "execution_count": 0,
      "outputs": []
    },
    {
      "cell_type": "code",
      "metadata": {
        "id": "G8HPawSZDRp2",
        "colab_type": "code",
        "colab": {}
      },
      "source": [
        "WeatherData = pd.DataFrame(data, columns = ['Time', 'Fake', 'Temp', 'Weather', 'Wind', 'Direction', 'Humidity', 'Barometer', 'Visibility'])\n",
        "\n",
        "del WeatherData['Time']\n",
        "del WeatherData['Fake']\n",
        "\n",
        "WeatherData['Direction'] = df_wd"
      ],
      "execution_count": 0,
      "outputs": []
    },
    {
      "cell_type": "code",
      "metadata": {
        "id": "m8ZRbJbRDlij",
        "colab_type": "code",
        "colab": {
          "base_uri": "https://localhost:8080/",
          "height": 34
        },
        "outputId": "10996927-ffb5-440d-d260-610ca6491832"
      },
      "source": [
        "WeatherData.to_csv('weatherdata_pune.csv',index=False)\n",
        "WeatherData.shape"
      ],
      "execution_count": 12,
      "outputs": [
        {
          "output_type": "execute_result",
          "data": {
            "text/plain": [
              "(48, 7)"
            ]
          },
          "metadata": {
            "tags": []
          },
          "execution_count": 12
        }
      ]
    },
    {
      "cell_type": "code",
      "metadata": {
        "id": "W5wZqZ3xDn4t",
        "colab_type": "code",
        "colab": {
          "base_uri": "https://localhost:8080/",
          "height": 34
        },
        "outputId": "5511ecb7-7841-4c70-e09a-cd7d9a37f941"
      },
      "source": [
        "WeatherData.size\n"
      ],
      "execution_count": 13,
      "outputs": [
        {
          "output_type": "execute_result",
          "data": {
            "text/plain": [
              "336"
            ]
          },
          "metadata": {
            "tags": []
          },
          "execution_count": 13
        }
      ]
    },
    {
      "cell_type": "code",
      "metadata": {
        "id": "5XE9EMOeDqbr",
        "colab_type": "code",
        "colab": {
          "base_uri": "https://localhost:8080/",
          "height": 1000
        },
        "outputId": "27711184-86c6-40ce-9fe3-ca0e12dbed36"
      },
      "source": [
        "WeatherData\n"
      ],
      "execution_count": 14,
      "outputs": [
        {
          "output_type": "execute_result",
          "data": {
            "text/html": [
              "<div>\n",
              "<style scoped>\n",
              "    .dataframe tbody tr th:only-of-type {\n",
              "        vertical-align: middle;\n",
              "    }\n",
              "\n",
              "    .dataframe tbody tr th {\n",
              "        vertical-align: top;\n",
              "    }\n",
              "\n",
              "    .dataframe thead th {\n",
              "        text-align: right;\n",
              "    }\n",
              "</style>\n",
              "<table border=\"1\" class=\"dataframe\">\n",
              "  <thead>\n",
              "    <tr style=\"text-align: right;\">\n",
              "      <th></th>\n",
              "      <th>Temp</th>\n",
              "      <th>Weather</th>\n",
              "      <th>Wind</th>\n",
              "      <th>Direction</th>\n",
              "      <th>Humidity</th>\n",
              "      <th>Barometer</th>\n",
              "      <th>Visibility</th>\n",
              "    </tr>\n",
              "  </thead>\n",
              "  <tbody>\n",
              "    <tr>\n",
              "      <th>0</th>\n",
              "      <td>68 °F</td>\n",
              "      <td>Passing clouds.</td>\n",
              "      <td>3 mph</td>\n",
              "      <td>Wind blowing from 210° South-southwest to Nort...</td>\n",
              "      <td>69%</td>\n",
              "      <td>29.80 \"Hg</td>\n",
              "      <td>N/A</td>\n",
              "    </tr>\n",
              "    <tr>\n",
              "      <th>1</th>\n",
              "      <td>68 °F</td>\n",
              "      <td>Passing clouds.</td>\n",
              "      <td>3 mph</td>\n",
              "      <td>Wind blowing from 210° South-southwest to Nort...</td>\n",
              "      <td>69%</td>\n",
              "      <td>29.80 \"Hg</td>\n",
              "      <td>N/A</td>\n",
              "    </tr>\n",
              "    <tr>\n",
              "      <th>2</th>\n",
              "      <td>68 °F</td>\n",
              "      <td>Passing clouds.</td>\n",
              "      <td>6 mph</td>\n",
              "      <td>Wind blowing from 200° South-southwest to Nort...</td>\n",
              "      <td>69%</td>\n",
              "      <td>29.80 \"Hg</td>\n",
              "      <td>N/A</td>\n",
              "    </tr>\n",
              "    <tr>\n",
              "      <th>3</th>\n",
              "      <td>68 °F</td>\n",
              "      <td>Passing clouds.</td>\n",
              "      <td>3 mph</td>\n",
              "      <td>Wind blowing from 220° Southwest to Northeast</td>\n",
              "      <td>69%</td>\n",
              "      <td>29.80 \"Hg</td>\n",
              "      <td>N/A</td>\n",
              "    </tr>\n",
              "    <tr>\n",
              "      <th>4</th>\n",
              "      <td>70 °F</td>\n",
              "      <td>Passing clouds.</td>\n",
              "      <td>6 mph</td>\n",
              "      <td>Wind blowing from 200° South-southwest to Nort...</td>\n",
              "      <td>64%</td>\n",
              "      <td>29.80 \"Hg</td>\n",
              "      <td>N/A</td>\n",
              "    </tr>\n",
              "    <tr>\n",
              "      <th>5</th>\n",
              "      <td>70 °F</td>\n",
              "      <td>Clear.</td>\n",
              "      <td>6 mph</td>\n",
              "      <td>Wind blowing from 220° Southwest to Northeast</td>\n",
              "      <td>60%</td>\n",
              "      <td>29.83 \"Hg</td>\n",
              "      <td>6 mi</td>\n",
              "    </tr>\n",
              "    <tr>\n",
              "      <th>6</th>\n",
              "      <td>70 °F</td>\n",
              "      <td>Light rain. Clear.</td>\n",
              "      <td>3 mph</td>\n",
              "      <td>Wind blowing from 210° South-southwest to Nort...</td>\n",
              "      <td>60%</td>\n",
              "      <td>29.80 \"Hg</td>\n",
              "      <td>6 mi</td>\n",
              "    </tr>\n",
              "    <tr>\n",
              "      <th>7</th>\n",
              "      <td>70 °F</td>\n",
              "      <td>Clear.</td>\n",
              "      <td>6 mph</td>\n",
              "      <td>Wind blowing from 220° Southwest to Northeast</td>\n",
              "      <td>64%</td>\n",
              "      <td>29.83 \"Hg</td>\n",
              "      <td>4 mi</td>\n",
              "    </tr>\n",
              "    <tr>\n",
              "      <th>8</th>\n",
              "      <td>70 °F</td>\n",
              "      <td>Clear.</td>\n",
              "      <td>3 mph</td>\n",
              "      <td>Wind blowing from 220° Southwest to Northeast</td>\n",
              "      <td>64%</td>\n",
              "      <td>29.83 \"Hg</td>\n",
              "      <td>5 mi</td>\n",
              "    </tr>\n",
              "    <tr>\n",
              "      <th>9</th>\n",
              "      <td>70 °F</td>\n",
              "      <td>Clear.</td>\n",
              "      <td>6 mph</td>\n",
              "      <td>Wind blowing from 250° West-southwest to East-...</td>\n",
              "      <td>60%</td>\n",
              "      <td>29.83 \"Hg</td>\n",
              "      <td>4 mi</td>\n",
              "    </tr>\n",
              "    <tr>\n",
              "      <th>10</th>\n",
              "      <td>72 °F</td>\n",
              "      <td>Haze.</td>\n",
              "      <td>3 mph</td>\n",
              "      <td>Wind blowing from 240° West-southwest to East-...</td>\n",
              "      <td>61%</td>\n",
              "      <td>29.83 \"Hg</td>\n",
              "      <td>3 mi</td>\n",
              "    </tr>\n",
              "    <tr>\n",
              "      <th>11</th>\n",
              "      <td>72 °F</td>\n",
              "      <td>Clear.</td>\n",
              "      <td>3 mph</td>\n",
              "      <td>Wind blowing from 200° South-southwest to Nort...</td>\n",
              "      <td>57%</td>\n",
              "      <td>29.83 \"Hg</td>\n",
              "      <td>5 mi</td>\n",
              "    </tr>\n",
              "    <tr>\n",
              "      <th>12</th>\n",
              "      <td>70 °F</td>\n",
              "      <td>Clear.</td>\n",
              "      <td>3 mph</td>\n",
              "      <td>Wind blowing from 210° South-southwest to Nort...</td>\n",
              "      <td>60%</td>\n",
              "      <td>29.83 \"Hg</td>\n",
              "      <td>4 mi</td>\n",
              "    </tr>\n",
              "    <tr>\n",
              "      <th>13</th>\n",
              "      <td>70 °F</td>\n",
              "      <td>Light rain. Clear.</td>\n",
              "      <td>3 mph</td>\n",
              "      <td>Wind blowing from 200° South-southwest to Nort...</td>\n",
              "      <td>60%</td>\n",
              "      <td>29.83 \"Hg</td>\n",
              "      <td>5 mi</td>\n",
              "    </tr>\n",
              "    <tr>\n",
              "      <th>14</th>\n",
              "      <td>70 °F</td>\n",
              "      <td>Light rain. Clear.</td>\n",
              "      <td>1 mph</td>\n",
              "      <td>Wind blowing from 0° North to South</td>\n",
              "      <td>60%</td>\n",
              "      <td>29.83 \"Hg</td>\n",
              "      <td>N/A</td>\n",
              "    </tr>\n",
              "    <tr>\n",
              "      <th>15</th>\n",
              "      <td>70 °F</td>\n",
              "      <td>Light rain. Clear.</td>\n",
              "      <td>3 mph</td>\n",
              "      <td>Wind blowing from 180° South to North</td>\n",
              "      <td>60%</td>\n",
              "      <td>29.83 \"Hg</td>\n",
              "      <td>N/A</td>\n",
              "    </tr>\n",
              "    <tr>\n",
              "      <th>16</th>\n",
              "      <td>70 °F</td>\n",
              "      <td>Light rain. Clear.</td>\n",
              "      <td>3 mph</td>\n",
              "      <td>Wind blowing from 230° Southwest to Northeast</td>\n",
              "      <td>57%</td>\n",
              "      <td>29.86 \"Hg</td>\n",
              "      <td>N/A</td>\n",
              "    </tr>\n",
              "    <tr>\n",
              "      <th>17</th>\n",
              "      <td>70 °F</td>\n",
              "      <td>Passing clouds.</td>\n",
              "      <td>6 mph</td>\n",
              "      <td>Wind blowing from 210° South-southwest to Nort...</td>\n",
              "      <td>60%</td>\n",
              "      <td>29.86 \"Hg</td>\n",
              "      <td>N/A</td>\n",
              "    </tr>\n",
              "    <tr>\n",
              "      <th>18</th>\n",
              "      <td>70 °F</td>\n",
              "      <td>Light rain. Clear.</td>\n",
              "      <td>6 mph</td>\n",
              "      <td>Wind blowing from 220° Southwest to Northeast</td>\n",
              "      <td>57%</td>\n",
              "      <td>29.86 \"Hg</td>\n",
              "      <td>N/A</td>\n",
              "    </tr>\n",
              "    <tr>\n",
              "      <th>19</th>\n",
              "      <td>72 °F</td>\n",
              "      <td>Light rain. Clear.</td>\n",
              "      <td>3 mph</td>\n",
              "      <td>Wind blowing from 170° South to North</td>\n",
              "      <td>50%</td>\n",
              "      <td>29.83 \"Hg</td>\n",
              "      <td>N/A</td>\n",
              "    </tr>\n",
              "    <tr>\n",
              "      <th>20</th>\n",
              "      <td>72 °F</td>\n",
              "      <td>Light rain. Clear.</td>\n",
              "      <td>1 mph</td>\n",
              "      <td>Wind blowing from 0° North to South</td>\n",
              "      <td>53%</td>\n",
              "      <td>29.86 \"Hg</td>\n",
              "      <td>N/A</td>\n",
              "    </tr>\n",
              "    <tr>\n",
              "      <th>21</th>\n",
              "      <td>70 °F</td>\n",
              "      <td>Sunny.</td>\n",
              "      <td>1 mph</td>\n",
              "      <td>Wind blowing from 0° North to South</td>\n",
              "      <td>50%</td>\n",
              "      <td>29.86 \"Hg</td>\n",
              "      <td>10 mi</td>\n",
              "    </tr>\n",
              "    <tr>\n",
              "      <th>22</th>\n",
              "      <td>70 °F</td>\n",
              "      <td>Sunny.</td>\n",
              "      <td>1 mph</td>\n",
              "      <td>Wind blowing from 0° North to South</td>\n",
              "      <td>53%</td>\n",
              "      <td>29.89 \"Hg</td>\n",
              "      <td>10 mi</td>\n",
              "    </tr>\n",
              "    <tr>\n",
              "      <th>23</th>\n",
              "      <td>70 °F</td>\n",
              "      <td>Sunny.</td>\n",
              "      <td>1 mph</td>\n",
              "      <td>Wind blowing from 20° North-northeast to South...</td>\n",
              "      <td>53%</td>\n",
              "      <td>29.86 \"Hg</td>\n",
              "      <td>10 mi</td>\n",
              "    </tr>\n",
              "    <tr>\n",
              "      <th>24</th>\n",
              "      <td>68 °F</td>\n",
              "      <td>Sunny.</td>\n",
              "      <td>1 mph</td>\n",
              "      <td>Wind blowing from 0° North to South</td>\n",
              "      <td>56%</td>\n",
              "      <td>29.86 \"Hg</td>\n",
              "      <td>10 mi</td>\n",
              "    </tr>\n",
              "    <tr>\n",
              "      <th>25</th>\n",
              "      <td>66 °F</td>\n",
              "      <td>Sunny.</td>\n",
              "      <td>1 mph</td>\n",
              "      <td>Wind blowing from 0° North to South</td>\n",
              "      <td>60%</td>\n",
              "      <td>29.86 \"Hg</td>\n",
              "      <td>10 mi</td>\n",
              "    </tr>\n",
              "    <tr>\n",
              "      <th>26</th>\n",
              "      <td>64 °F</td>\n",
              "      <td>Sunny.</td>\n",
              "      <td>1 mph</td>\n",
              "      <td>Wind blowing from 160° South-southeast to Nort...</td>\n",
              "      <td>68%</td>\n",
              "      <td>29.86 \"Hg</td>\n",
              "      <td>10 mi</td>\n",
              "    </tr>\n",
              "    <tr>\n",
              "      <th>27</th>\n",
              "      <td>64 °F</td>\n",
              "      <td>Sunny.</td>\n",
              "      <td>1 mph</td>\n",
              "      <td>Wind blowing from 120° East-southeast to West-...</td>\n",
              "      <td>64%</td>\n",
              "      <td>29.86 \"Hg</td>\n",
              "      <td>10 mi</td>\n",
              "    </tr>\n",
              "    <tr>\n",
              "      <th>28</th>\n",
              "      <td>63 °F</td>\n",
              "      <td>Sunny.</td>\n",
              "      <td>No wind</td>\n",
              "      <td>Wind blowing from 0° North to South</td>\n",
              "      <td>64%</td>\n",
              "      <td>29.86 \"Hg</td>\n",
              "      <td>10 mi</td>\n",
              "    </tr>\n",
              "    <tr>\n",
              "      <th>29</th>\n",
              "      <td>64 °F</td>\n",
              "      <td>Clear.</td>\n",
              "      <td>1 mph</td>\n",
              "      <td>Wind blowing from 0° North to South</td>\n",
              "      <td>60%</td>\n",
              "      <td>29.86 \"Hg</td>\n",
              "      <td>10 mi</td>\n",
              "    </tr>\n",
              "    <tr>\n",
              "      <th>30</th>\n",
              "      <td>64 °F</td>\n",
              "      <td>Clear.</td>\n",
              "      <td>1 mph</td>\n",
              "      <td>Wind blowing from 0° North to South</td>\n",
              "      <td>60%</td>\n",
              "      <td>29.86 \"Hg</td>\n",
              "      <td>10 mi</td>\n",
              "    </tr>\n",
              "    <tr>\n",
              "      <th>31</th>\n",
              "      <td>63 °F</td>\n",
              "      <td>Clear.</td>\n",
              "      <td>3 mph</td>\n",
              "      <td>Wind blowing from 130° Southeast to Northwest</td>\n",
              "      <td>64%</td>\n",
              "      <td>29.86 \"Hg</td>\n",
              "      <td>10 mi</td>\n",
              "    </tr>\n",
              "    <tr>\n",
              "      <th>32</th>\n",
              "      <td>66 °F</td>\n",
              "      <td>Clear.</td>\n",
              "      <td>3 mph</td>\n",
              "      <td>Wind blowing from 90° East to West</td>\n",
              "      <td>52%</td>\n",
              "      <td>29.86 \"Hg</td>\n",
              "      <td>10 mi</td>\n",
              "    </tr>\n",
              "    <tr>\n",
              "      <th>33</th>\n",
              "      <td>66 °F</td>\n",
              "      <td>Clear.</td>\n",
              "      <td>3 mph</td>\n",
              "      <td>Wind blowing from 90° East to West</td>\n",
              "      <td>52%</td>\n",
              "      <td>29.86 \"Hg</td>\n",
              "      <td>10 mi</td>\n",
              "    </tr>\n",
              "    <tr>\n",
              "      <th>34</th>\n",
              "      <td>64 °F</td>\n",
              "      <td>Clear.</td>\n",
              "      <td>3 mph</td>\n",
              "      <td>Wind blowing from 80° East to West</td>\n",
              "      <td>60%</td>\n",
              "      <td>29.86 \"Hg</td>\n",
              "      <td>10 mi</td>\n",
              "    </tr>\n",
              "    <tr>\n",
              "      <th>35</th>\n",
              "      <td>63 °F</td>\n",
              "      <td>Clear.</td>\n",
              "      <td>No wind</td>\n",
              "      <td>Wind blowing from 0° North to South</td>\n",
              "      <td>64%</td>\n",
              "      <td>29.86 \"Hg</td>\n",
              "      <td>10 mi</td>\n",
              "    </tr>\n",
              "    <tr>\n",
              "      <th>36</th>\n",
              "      <td>63 °F</td>\n",
              "      <td>Clear.</td>\n",
              "      <td>1 mph</td>\n",
              "      <td>Wind blowing from 90° East to West</td>\n",
              "      <td>64%</td>\n",
              "      <td>29.86 \"Hg</td>\n",
              "      <td>10 mi</td>\n",
              "    </tr>\n",
              "    <tr>\n",
              "      <th>37</th>\n",
              "      <td>61 °F</td>\n",
              "      <td>Clear.</td>\n",
              "      <td>1 mph</td>\n",
              "      <td>Wind blowing from 0° North to South</td>\n",
              "      <td>72%</td>\n",
              "      <td>29.89 \"Hg</td>\n",
              "      <td>10 mi</td>\n",
              "    </tr>\n",
              "    <tr>\n",
              "      <th>38</th>\n",
              "      <td>63 °F</td>\n",
              "      <td>Clear.</td>\n",
              "      <td>1 mph</td>\n",
              "      <td>Wind blowing from 0° North to South</td>\n",
              "      <td>68%</td>\n",
              "      <td>29.89 \"Hg</td>\n",
              "      <td>10 mi</td>\n",
              "    </tr>\n",
              "    <tr>\n",
              "      <th>39</th>\n",
              "      <td>64 °F</td>\n",
              "      <td>Clear.</td>\n",
              "      <td>1 mph</td>\n",
              "      <td>Wind blowing from 0° North to South</td>\n",
              "      <td>64%</td>\n",
              "      <td>29.89 \"Hg</td>\n",
              "      <td>10 mi</td>\n",
              "    </tr>\n",
              "    <tr>\n",
              "      <th>40</th>\n",
              "      <td>66 °F</td>\n",
              "      <td>Clear.</td>\n",
              "      <td>1 mph</td>\n",
              "      <td>Wind blowing from 170° South to North</td>\n",
              "      <td>60%</td>\n",
              "      <td>29.86 \"Hg</td>\n",
              "      <td>10 mi</td>\n",
              "    </tr>\n",
              "    <tr>\n",
              "      <th>41</th>\n",
              "      <td>66 °F</td>\n",
              "      <td>Clear.</td>\n",
              "      <td>3 mph</td>\n",
              "      <td>Wind blowing from 160° South-southeast to Nort...</td>\n",
              "      <td>60%</td>\n",
              "      <td>29.86 \"Hg</td>\n",
              "      <td>10 mi</td>\n",
              "    </tr>\n",
              "    <tr>\n",
              "      <th>42</th>\n",
              "      <td>68 °F</td>\n",
              "      <td>Clear.</td>\n",
              "      <td>1 mph</td>\n",
              "      <td>Wind blowing from 0° North to South</td>\n",
              "      <td>56%</td>\n",
              "      <td>29.89 \"Hg</td>\n",
              "      <td>10 mi</td>\n",
              "    </tr>\n",
              "    <tr>\n",
              "      <th>43</th>\n",
              "      <td>68 °F</td>\n",
              "      <td>Clear.</td>\n",
              "      <td>1 mph</td>\n",
              "      <td>Wind blowing from 180° South to North</td>\n",
              "      <td>53%</td>\n",
              "      <td>29.86 \"Hg</td>\n",
              "      <td>10 mi</td>\n",
              "    </tr>\n",
              "    <tr>\n",
              "      <th>44</th>\n",
              "      <td>68 °F</td>\n",
              "      <td>Clear.</td>\n",
              "      <td>3 mph</td>\n",
              "      <td>Wind blowing from 160° South-southeast to Nort...</td>\n",
              "      <td>56%</td>\n",
              "      <td>29.86 \"Hg</td>\n",
              "      <td>10 mi</td>\n",
              "    </tr>\n",
              "    <tr>\n",
              "      <th>45</th>\n",
              "      <td>66 °F</td>\n",
              "      <td>Clear.</td>\n",
              "      <td>1 mph</td>\n",
              "      <td>Wind blowing from 120° East-southeast to West-...</td>\n",
              "      <td>60%</td>\n",
              "      <td>29.86 \"Hg</td>\n",
              "      <td>10 mi</td>\n",
              "    </tr>\n",
              "    <tr>\n",
              "      <th>46</th>\n",
              "      <td>70 °F</td>\n",
              "      <td>Clear.</td>\n",
              "      <td>1 mph</td>\n",
              "      <td>Wind blowing from 140° Southeast to Northwest</td>\n",
              "      <td>50%</td>\n",
              "      <td>29.86 \"Hg</td>\n",
              "      <td>10 mi</td>\n",
              "    </tr>\n",
              "    <tr>\n",
              "      <th>47</th>\n",
              "      <td>75 °F</td>\n",
              "      <td>Clear.</td>\n",
              "      <td>1 mph</td>\n",
              "      <td>Wind blowing from 230° Southwest to Northeast</td>\n",
              "      <td>36%</td>\n",
              "      <td>29.86 \"Hg</td>\n",
              "      <td>10 mi</td>\n",
              "    </tr>\n",
              "  </tbody>\n",
              "</table>\n",
              "</div>"
            ],
            "text/plain": [
              "     Temp             Weather     Wind  ... Humidity  Barometer Visibility\n",
              "0   68 °F     Passing clouds.    3 mph  ...      69%  29.80 \"Hg        N/A\n",
              "1   68 °F     Passing clouds.    3 mph  ...      69%  29.80 \"Hg        N/A\n",
              "2   68 °F     Passing clouds.    6 mph  ...      69%  29.80 \"Hg        N/A\n",
              "3   68 °F     Passing clouds.    3 mph  ...      69%  29.80 \"Hg        N/A\n",
              "4   70 °F     Passing clouds.    6 mph  ...      64%  29.80 \"Hg        N/A\n",
              "5   70 °F              Clear.    6 mph  ...      60%  29.83 \"Hg       6 mi\n",
              "6   70 °F  Light rain. Clear.    3 mph  ...      60%  29.80 \"Hg       6 mi\n",
              "7   70 °F              Clear.    6 mph  ...      64%  29.83 \"Hg       4 mi\n",
              "8   70 °F              Clear.    3 mph  ...      64%  29.83 \"Hg       5 mi\n",
              "9   70 °F              Clear.    6 mph  ...      60%  29.83 \"Hg       4 mi\n",
              "10  72 °F               Haze.    3 mph  ...      61%  29.83 \"Hg       3 mi\n",
              "11  72 °F              Clear.    3 mph  ...      57%  29.83 \"Hg       5 mi\n",
              "12  70 °F              Clear.    3 mph  ...      60%  29.83 \"Hg       4 mi\n",
              "13  70 °F  Light rain. Clear.    3 mph  ...      60%  29.83 \"Hg       5 mi\n",
              "14  70 °F  Light rain. Clear.    1 mph  ...      60%  29.83 \"Hg        N/A\n",
              "15  70 °F  Light rain. Clear.    3 mph  ...      60%  29.83 \"Hg        N/A\n",
              "16  70 °F  Light rain. Clear.    3 mph  ...      57%  29.86 \"Hg        N/A\n",
              "17  70 °F     Passing clouds.    6 mph  ...      60%  29.86 \"Hg        N/A\n",
              "18  70 °F  Light rain. Clear.    6 mph  ...      57%  29.86 \"Hg        N/A\n",
              "19  72 °F  Light rain. Clear.    3 mph  ...      50%  29.83 \"Hg        N/A\n",
              "20  72 °F  Light rain. Clear.    1 mph  ...      53%  29.86 \"Hg        N/A\n",
              "21  70 °F              Sunny.    1 mph  ...      50%  29.86 \"Hg      10 mi\n",
              "22  70 °F              Sunny.    1 mph  ...      53%  29.89 \"Hg      10 mi\n",
              "23  70 °F              Sunny.    1 mph  ...      53%  29.86 \"Hg      10 mi\n",
              "24  68 °F              Sunny.    1 mph  ...      56%  29.86 \"Hg      10 mi\n",
              "25  66 °F              Sunny.    1 mph  ...      60%  29.86 \"Hg      10 mi\n",
              "26  64 °F              Sunny.    1 mph  ...      68%  29.86 \"Hg      10 mi\n",
              "27  64 °F              Sunny.    1 mph  ...      64%  29.86 \"Hg      10 mi\n",
              "28  63 °F              Sunny.  No wind  ...      64%  29.86 \"Hg      10 mi\n",
              "29  64 °F              Clear.    1 mph  ...      60%  29.86 \"Hg      10 mi\n",
              "30  64 °F              Clear.    1 mph  ...      60%  29.86 \"Hg      10 mi\n",
              "31  63 °F              Clear.    3 mph  ...      64%  29.86 \"Hg      10 mi\n",
              "32  66 °F              Clear.    3 mph  ...      52%  29.86 \"Hg      10 mi\n",
              "33  66 °F              Clear.    3 mph  ...      52%  29.86 \"Hg      10 mi\n",
              "34  64 °F              Clear.    3 mph  ...      60%  29.86 \"Hg      10 mi\n",
              "35  63 °F              Clear.  No wind  ...      64%  29.86 \"Hg      10 mi\n",
              "36  63 °F              Clear.    1 mph  ...      64%  29.86 \"Hg      10 mi\n",
              "37  61 °F              Clear.    1 mph  ...      72%  29.89 \"Hg      10 mi\n",
              "38  63 °F              Clear.    1 mph  ...      68%  29.89 \"Hg      10 mi\n",
              "39  64 °F              Clear.    1 mph  ...      64%  29.89 \"Hg      10 mi\n",
              "40  66 °F              Clear.    1 mph  ...      60%  29.86 \"Hg      10 mi\n",
              "41  66 °F              Clear.    3 mph  ...      60%  29.86 \"Hg      10 mi\n",
              "42  68 °F              Clear.    1 mph  ...      56%  29.89 \"Hg      10 mi\n",
              "43  68 °F              Clear.    1 mph  ...      53%  29.86 \"Hg      10 mi\n",
              "44  68 °F              Clear.    3 mph  ...      56%  29.86 \"Hg      10 mi\n",
              "45  66 °F              Clear.    1 mph  ...      60%  29.86 \"Hg      10 mi\n",
              "46  70 °F              Clear.    1 mph  ...      50%  29.86 \"Hg      10 mi\n",
              "47  75 °F              Clear.    1 mph  ...      36%  29.86 \"Hg      10 mi\n",
              "\n",
              "[48 rows x 7 columns]"
            ]
          },
          "metadata": {
            "tags": []
          },
          "execution_count": 14
        }
      ]
    },
    {
      "cell_type": "code",
      "metadata": {
        "id": "TUudUIYZLb-p",
        "colab_type": "code",
        "colab": {}
      },
      "source": [
        ""
      ],
      "execution_count": 0,
      "outputs": []
    }
  ]
}